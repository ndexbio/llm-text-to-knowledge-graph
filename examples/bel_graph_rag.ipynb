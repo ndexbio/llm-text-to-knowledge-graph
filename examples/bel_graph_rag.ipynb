{
 "cells": [
  {
   "cell_type": "markdown",
   "metadata": {},
   "source": [
    "# BEL Graph RAG Example\n",
    "\n",
    "This notebook demonstrates how to use RAG (Retrieval Augmented Generation) with BEL graphs to generate hypotheses about experimental observations."
   ]
  },
  {
   "cell_type": "code",
   "metadata": {},
   "execution_count": null,
   "outputs": [],
   "source": [
    "import os\n",
    "import json\n",
    "from pathlib import Path\n",
    "import sys\n",
    "\n",
    "# Add parent directory to path to import textToKnowledgeGraph\n",
    "sys.path.append('..')\n",
    "\n",
    "from textToKnowledgeGraph.main import process_text_to_bel\n",
    "from textToKnowledgeGraph.convert_to_cx2 import convert_to_cx2\n",
    "from textToKnowledgeGraph.transform_bel_statements import merge_cx2_networks"
   ]
  },
  {
   "cell_type": "markdown",
   "metadata": {},
   "source": [
    "## Setup Prompt Template\n",
    "\n",
    "We'll create a template that combines experimental observations with BEL knowledge for hypothesis generation."
   ]
  },
  {
   "cell_type": "code",
   "metadata": {},
   "execution_count": null,
   "outputs": [],
   "source": [
    "PROMPT_TEMPLATE = \"\"\"\n",
    "You are an expert biologist tasked with analyzing experimental data and proposing mechanistic hypotheses.\n",
    "\n",
    "EXPERIMENT DESCRIPTION:\n",
    "{experiment}\n",
    "\n",
    "MEASUREMENTS:\n",
    "{measurements}\n",
    "\n",
    "BEL FORMAT GUIDELINES:\n",
    "BEL is a language for representing biological knowledge in a computable form. Key aspects:\n",
    "- Entities are represented with functions like p() for proteins, a() for abundances, bp() for biological processes\n",
    "- Relationships between entities use operators like increases, decreases, directlyIncreases, association\n",
    "- Entities must use standard namespaces (HGNC for human genes, CHEBI for chemicals, etc.)\n",
    "\n",
    "EXISTING KNOWLEDGE (Optional):\n",
    "{knowledge_graph}\n",
    "\n",
    "TASK:\n",
    "Propose a hypothesis explaining the experimental observations as a BEL graph. Your hypothesis should:\n",
    "1. Be consistent with the experimental data\n",
    "2. Use proper BEL syntax and namespaces\n",
    "3. Focus on mechanistic relationships\n",
    "4. Incorporate existing knowledge when provided\n",
    "\n",
    "Output your hypothesis as a list of BEL statements that form a connected graph.\n",
    "\"\"\""
   ]
  },
  {
   "cell_type": "markdown",
   "metadata": {},
   "source": [
    "## Example Experiment\n",
    "\n",
    "Let's use an example experiment studying the effects of oxidative stress on cell death pathways."
   ]
  },
  {
   "cell_type": "code",
   "metadata": {},
   "execution_count": null,
   "outputs": [],
   "source": [
    "example_experiment = {\n",
    "    \"experiment\": \"\"\"\n",
    "    Human endothelial cells were treated with hydrogen peroxide (H2O2) at varying concentrations \n",
    "    (0, 100, 200, 500 μM) for 24 hours. Cell viability, apoptosis markers, and oxidative stress \n",
    "    indicators were measured.\n",
    "    \"\"\",\n",
    "    \n",
    "    \"measurements\": \"\"\"\n",
    "    1. Cell viability decreased dose-dependently with H2O2 treatment\n",
    "    2. Caspase-3 activity increased 3-fold at 200 μM H2O2\n",
    "    3. Intracellular ROS levels increased 5-fold at 200 μM H2O2\n",
    "    4. Bcl-2 protein levels decreased by 50% at 200 μM H2O2\n",
    "    5. Cytochrome c was detected in cytoplasmic fractions at 200 μM H2O2\n",
    "    \"\"\",\n",
    "    \n",
    "    \"knowledge_graph\": \"\"\"\n",
    "    p(HGNC:BCL2) decreases bp(GOBP:\"apoptotic process\")\n",
    "    p(HGNC:CASP3) increases bp(GOBP:\"apoptotic process\")\n",
    "    a(CHEBI:\"hydrogen peroxide\") increases bp(GOBP:\"oxidative stress\")\n",
    "    \"\"\"\n",
    "}"
   ]
  },
  {
   "cell_type": "markdown",
   "metadata": {},
   "source": [
    "## Query Function\n",
    "\n",
    "Create a function to process the experiment and generate a hypothesis as a BEL graph."
   ]
  },
  {
   "cell_type": "code",
   "metadata": {},
   "execution_count": null,
   "outputs": [],
   "source": [
    "def generate_hypothesis(experiment_desc, measurements, knowledge_graph=None):\n",
    "    \"\"\"Generate a hypothesis as a BEL graph based on experimental observations.\n",
    "    \n",
    "    Args:\n",
    "        experiment_desc (str): Description of the experimental setup\n",
    "        measurements (str): Observed experimental measurements\n",
    "        knowledge_graph (str, optional): Existing knowledge in BEL format\n",
    "        \n",
    "    Returns:\n",
    "        str: Path to the saved CX2 file containing the hypothesis graph\n",
    "    \"\"\"\n",
    "    # Format the prompt\n",
    "    prompt = PROMPT_TEMPLATE.format(\n",
    "        experiment=experiment_desc,\n",
    "        measurements=measurements,\n",
    "        knowledge_graph=knowledge_graph if knowledge_graph else \"No prior knowledge provided\"\n",
    "    )\n",
    "    \n",
    "    # Process text to BEL using the core library function\n",
    "    bel_statements = process_text_to_bel(prompt)\n",
    "    \n",
    "    # Convert to CX2 format\n",
    "    output_file = \"hypothesis_graph.cx2\"\n",
    "    convert_to_cx2(bel_statements, output_file)\n",
    "    \n",
    "    return output_file"
   ]
  },
  {
   "cell_type": "markdown",
   "metadata": {},
   "source": [
    "## Run Example Query"
   ]
  },
  {
   "cell_type": "code",
   "metadata": {},
   "execution_count": null,
   "outputs": [],
   "source": [
    "# Generate hypothesis for our example experiment\n",
    "hypothesis_file = generate_hypothesis(\n",
    "    example_experiment[\"experiment\"],\n",
    "    example_experiment[\"measurements\"],\n",
    "    example_experiment[\"knowledge_graph\"]\n",
    ")"
   ]
  },
  {
   "cell_type": "markdown",
   "metadata": {},
   "source": [
    "## Literature Integration\n",
    "\n",
    "Define some relevant papers to incorporate into our knowledge graph."
   ]
  },
  {
   "cell_type": "code",
   "metadata": {},
   "execution_count": null,
   "outputs": [],
   "source": [
    "relevant_papers = {\n",
    "    \"paper1\": {\n",
    "        \"title\": \"Hydrogen peroxide-induced cell death in cultured human endothelial cells\",\n",
    "        \"citation\": \"Cell Death Differ. 2000 Apr;7(4):456-64\",\n",
    "        \"pmcid\": \"PMC3898398\"\n",
    "    },\n",
    "    \"paper2\": {\n",
    "        \"title\": \"Bcl-2 proteins in the control of apoptosis: from mechanistic insights to therapeutic opportunities\",\n",
    "        \"citation\": \"Biochem Soc Trans. 2018 Oct 19;46(5):1147-1158\",\n",
    "        \"pmcid\": \"PMC6177401\"\n",
    "    },\n",
    "    \"paper3\": {\n",
    "        \"title\": \"The role of cytochrome c in caspase activation in Drosophila melanogaster cells\",\n",
    "        \"citation\": \"J Cell Biol. 2004 Mar 15;164(6):1035-44\",\n",
    "        \"pmcid\": \"PMC7324065\"\n",
    "    }\n",
    "}"
   ]
  },
  {
   "cell_type": "markdown",
   "metadata": {},
   "source": [
    "## Merge Knowledge Graphs\n",
    "\n",
    "Function to merge multiple CX2 knowledge graphs."
   ]
  },
  {
   "cell_type": "code",
   "metadata": {},
   "execution_count": null,
   "outputs": [],
   "source": [
    "def merge_knowledge_graphs(graph_files):\n",
    "    \"\"\"Merge multiple CX2 knowledge graphs into one.\n",
    "    \n",
    "    Args:\n",
    "        graph_files (list): List of paths to CX2 files to merge\n",
    "        \n",
    "    Returns:\n",
    "        str: Path to merged CX2 file\n",
    "    \"\"\"\n",
    "    output_file = \"merged_knowledge.cx2\"\n",
    "    merge_cx2_networks(graph_files, output_file)\n",
    "    return output_file"
   ]
  },
  {
   "cell_type": "markdown",
   "metadata": {},
   "source": [
    "## Process Papers and Update Hypothesis"
   ]
  },
  {
   "cell_type": "code",
   "metadata": {},
   "execution_count": null,
   "outputs": [],
   "source": [
    "# Process each paper to generate knowledge graphs\n",
    "paper_graphs = []\n",
    "for paper_id, paper in relevant_papers.items():\n",
    "    # Process paper using textToKnowledgeGraph\n",
    "    output_file = f\"{paper_id}_graph.cx2\"\n",
    "    process_text_to_bel(paper[\"pmcid\"], output_file=output_file)\n",
    "    paper_graphs.append(output_file)\n",
    "\n",
    "# Merge all paper knowledge graphs\n",
    "merged_knowledge = merge_knowledge_graphs(paper_graphs)\n",
    "\n",
    "# Generate new hypothesis incorporating literature knowledge\n",
    "with open(merged_knowledge, 'r') as f:\n",
    "    literature_knowledge = f.read()\n",
    "\n",
    "final_hypothesis = generate_hypothesis(\n",
    "    example_experiment[\"experiment\"],\n",
    "    example_experiment[\"measurements\"],\n",
    "    literature_knowledge\n",
    ")"
   ]
  }
 ],
 "metadata": {
  "kernelspec": {
   "display_name": "Python 3",
   "language": "python",
   "name": "python3"
  },
  "language_info": {
   "codemirror_mode": {
    "name": "ipython",
    "version": 3
   },
   "file_extension": ".py",
   "mimetype": "text/x-python",
   "name": "python",
   "nbconvert_exporter": "python",
   "pygments_lexer": "ipython3",
   "version": "3.11.7"
  }
 },
 "nbformat": 4,
 "nbformat_minor": 4
}
