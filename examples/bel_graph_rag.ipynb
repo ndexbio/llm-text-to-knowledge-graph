{
 "cells": [
  {
   "cell_type": "markdown",
   "metadata": {},
   "source": [
    "# BEL Graph RAG Example\n",
    "\n",
    "This notebook demonstrates how to use Graph RAG (Retrieval Augmented Generation) with BEL graphs to review an analysis of a gene set related to SIRT1 and PARP1"
   ]
  },
  {
   "cell_type": "code",
   "execution_count": 22,
   "metadata": {},
   "outputs": [],
   "source": [
    "import os\n",
    "import json\n",
    "from pathlib import Path\n",
    "import sys\n",
    "from ndex2 import Ndex2\n",
    "import ndex2\n",
    "from ndex2.cx2 import CX2Network\n",
    "\n",
    "# Add parent directory to path to import textToKnowledgeGraph\n",
    "sys.path.append('..')\n",
    "\n",
    "import sys\n",
    "# print(sys.executable)\n",
    "\n",
    "# for key, value in os.environ.items():\n",
    "#      print(f\"{key}: {value}\")\n",
    "\n",
    "# Get NDEx account and password from environment variables\n",
    "ndex_account = os.environ.get('NDEX_ACCOUNT')\n",
    "ndex_password = os.environ.get('NDEX_PASSWORD')\n",
    "\n",
    "# Verify credentials are available\n",
    "if not ndex_account or not ndex_password:\n",
    "    raise ValueError(\"NDEx credentials not found in environment variables. \"\n",
    "                    \"Please set NDEX_ACCOUNT and NDEX_PASSWORD.\")\n",
    "\n",
    "ndex_client = Ndex2(username=ndex_account, password=ndex_password)\n"
   ]
  },
  {
   "cell_type": "markdown",
   "metadata": {},
   "source": [
    "## Papers to build our knowledge graph for Graph RAG"
   ]
  },
  {
   "cell_type": "code",
   "execution_count": 4,
   "metadata": {},
   "outputs": [],
   "source": [
    "relevant_papers = {\n",
    "    \"paper1\": {\n",
    "        \"title\": \"PBX1-SIRT1 Positive Feedback Loop Attenuates ROS-Mediated HF-MSC Senescence and Apoptosis\",\n",
    "        \"citation\": \"Stem Cell Rev Rep. 2023 Feb;19(2):443-454. doi: 10.1007/s12015-022-10425-w.\",\n",
    "        \"pmcid\": \"PMC9902417\"\n",
    "    },\n",
    "    \"paper2\": {\n",
    "        \"title\": \"A PARP1–BRG1–SIRT1 axis promotes HR repair by reducing nucleosome density at DNA damage sites\",\n",
    "        \"citation\": \"Nucleic Acids Res. 2019 Sep 19;47(16):8563-8580. doi: 10.1093/nar/gkz592.\",\n",
    "        \"pmcid\": \"PMC7145522\"\n",
    "    },\n",
    "    \"paper3\": {\n",
    "        \"title\": \"SIRT1/PARP1 crosstalk: connecting DNA damage and metabolism.\",\n",
    "        \"citation\": \"Genome Integr. 2013 Dec 20;4(1):6. doi: 10.1186/2041-9414-4-6. \",\n",
    "        \"pmcid\": \"PMC3898398\"\n",
    "    }\n",
    "}"
   ]
  },
  {
   "cell_type": "markdown",
   "metadata": {},
   "source": [
    "## Process the relevant papers and upload to NDEx"
   ]
  },
  {
   "cell_type": "code",
   "execution_count": 6,
   "metadata": {},
   "outputs": [
    {
     "name": "stderr",
     "output_type": "stream",
     "text": [
      "INFO: Setting up output directory for PMC9902417\n",
      "INFO: Successfully downloaded XML for PMCID PMC9902417.\n",
      "INFO: Processing xml file to get text paragraphs\n",
      "INFO: Processing paragraphs with LLM-BEL model\n",
      "INFO: HTTP Request: POST https://api.openai.com/v1/chat/completions \"HTTP/1.1 200 OK\"\n",
      "INFO: HTTP Request: POST https://api.openai.com/v1/chat/completions \"HTTP/1.1 200 OK\"\n",
      "INFO: HTTP Request: POST https://api.openai.com/v1/chat/completions \"HTTP/1.1 200 OK\"\n",
      "INFO: HTTP Request: POST https://api.openai.com/v1/chat/completions \"HTTP/1.1 200 OK\"\n",
      "INFO: HTTP Request: POST https://api.openai.com/v1/chat/completions \"HTTP/1.1 200 OK\"\n",
      "INFO: HTTP Request: POST https://api.openai.com/v1/chat/completions \"HTTP/1.1 200 OK\"\n",
      "INFO: HTTP Request: POST https://api.openai.com/v1/chat/completions \"HTTP/1.1 200 OK\"\n",
      "INFO: HTTP Request: POST https://api.openai.com/v1/chat/completions \"HTTP/1.1 200 OK\"\n",
      "INFO: HTTP Request: POST https://api.openai.com/v1/chat/completions \"HTTP/1.1 200 OK\"\n",
      "INFO: HTTP Request: POST https://api.openai.com/v1/chat/completions \"HTTP/1.1 200 OK\"\n",
      "INFO: HTTP Request: POST https://api.openai.com/v1/chat/completions \"HTTP/1.1 200 OK\"\n",
      "INFO: HTTP Request: POST https://api.openai.com/v1/chat/completions \"HTTP/1.1 200 OK\"\n",
      "INFO: HTTP Request: POST https://api.openai.com/v1/chat/completions \"HTTP/1.1 200 OK\"\n",
      "INFO: HTTP Request: POST https://api.openai.com/v1/chat/completions \"HTTP/1.1 200 OK\"\n",
      "INFO: HTTP Request: POST https://api.openai.com/v1/chat/completions \"HTTP/1.1 200 OK\"\n",
      "INFO: HTTP Request: POST https://api.openai.com/v1/chat/completions \"HTTP/1.1 200 OK\"\n",
      "INFO: HTTP Request: POST https://api.openai.com/v1/chat/completions \"HTTP/1.1 200 OK\"\n",
      "INFO: HTTP Request: POST https://api.openai.com/v1/chat/completions \"HTTP/1.1 200 OK\"\n",
      "INFO: HTTP Request: POST https://api.openai.com/v1/chat/completions \"HTTP/1.1 200 OK\"\n",
      "INFO: HTTP Request: POST https://api.openai.com/v1/chat/completions \"HTTP/1.1 200 OK\"\n",
      "INFO: HTTP Request: POST https://api.openai.com/v1/chat/completions \"HTTP/1.1 200 OK\"\n",
      "INFO: HTTP Request: POST https://api.openai.com/v1/chat/completions \"HTTP/1.1 200 OK\"\n",
      "INFO: HTTP Request: POST https://api.openai.com/v1/chat/completions \"HTTP/1.1 200 OK\"\n",
      "INFO: HTTP Request: POST https://api.openai.com/v1/chat/completions \"HTTP/1.1 200 OK\"\n",
      "INFO: HTTP Request: POST https://api.openai.com/v1/chat/completions \"HTTP/1.1 200 OK\"\n",
      "INFO: HTTP Request: POST https://api.openai.com/v1/chat/completions \"HTTP/1.1 200 OK\"\n",
      "INFO: HTTP Request: POST https://api.openai.com/v1/chat/completions \"HTTP/1.1 200 OK\"\n",
      "INFO: HTTP Request: POST https://api.openai.com/v1/chat/completions \"HTTP/1.1 200 OK\"\n",
      "INFO: HTTP Request: POST https://api.openai.com/v1/chat/completions \"HTTP/1.1 200 OK\"\n",
      "INFO: HTTP Request: POST https://api.openai.com/v1/chat/completions \"HTTP/1.1 200 OK\"\n",
      "INFO: HTTP Request: POST https://api.openai.com/v1/chat/completions \"HTTP/1.1 200 OK\"\n",
      "INFO: HTTP Request: POST https://api.openai.com/v1/chat/completions \"HTTP/1.1 200 OK\"\n",
      "INFO: HTTP Request: POST https://api.openai.com/v1/chat/completions \"HTTP/1.1 200 OK\"\n",
      "INFO: HTTP Request: POST https://api.openai.com/v1/chat/completions \"HTTP/1.1 200 OK\"\n",
      "INFO: HTTP Request: POST https://api.openai.com/v1/chat/completions \"HTTP/1.1 200 OK\"\n",
      "INFO: Processing LLM results to generate CX2 network\n",
      "INFO: Processing completed successfully for PMC9902417.\n",
      "INFO: Setting up output directory for PMC7145522\n"
     ]
    },
    {
     "name": "stdout",
     "output_type": "stream",
     "text": [
      "Time taken: 278.21 seconds (4.64 minutes)\n"
     ]
    },
    {
     "name": "stderr",
     "output_type": "stream",
     "text": [
      "INFO: Successfully downloaded XML for PMCID PMC7145522.\n",
      "INFO: Processing xml file to get text paragraphs\n",
      "INFO: Processing paragraphs with LLM-BEL model\n",
      "INFO: HTTP Request: POST https://api.openai.com/v1/chat/completions \"HTTP/1.1 200 OK\"\n",
      "INFO: HTTP Request: POST https://api.openai.com/v1/chat/completions \"HTTP/1.1 200 OK\"\n",
      "INFO: HTTP Request: POST https://api.openai.com/v1/chat/completions \"HTTP/1.1 200 OK\"\n",
      "INFO: HTTP Request: POST https://api.openai.com/v1/chat/completions \"HTTP/1.1 200 OK\"\n",
      "INFO: HTTP Request: POST https://api.openai.com/v1/chat/completions \"HTTP/1.1 200 OK\"\n",
      "INFO: HTTP Request: POST https://api.openai.com/v1/chat/completions \"HTTP/1.1 200 OK\"\n",
      "INFO: HTTP Request: POST https://api.openai.com/v1/chat/completions \"HTTP/1.1 200 OK\"\n",
      "INFO: HTTP Request: POST https://api.openai.com/v1/chat/completions \"HTTP/1.1 200 OK\"\n",
      "INFO: HTTP Request: POST https://api.openai.com/v1/chat/completions \"HTTP/1.1 200 OK\"\n",
      "INFO: HTTP Request: POST https://api.openai.com/v1/chat/completions \"HTTP/1.1 200 OK\"\n",
      "INFO: HTTP Request: POST https://api.openai.com/v1/chat/completions \"HTTP/1.1 200 OK\"\n",
      "INFO: HTTP Request: POST https://api.openai.com/v1/chat/completions \"HTTP/1.1 200 OK\"\n",
      "INFO: HTTP Request: POST https://api.openai.com/v1/chat/completions \"HTTP/1.1 200 OK\"\n",
      "INFO: HTTP Request: POST https://api.openai.com/v1/chat/completions \"HTTP/1.1 200 OK\"\n",
      "INFO: HTTP Request: POST https://api.openai.com/v1/chat/completions \"HTTP/1.1 200 OK\"\n",
      "INFO: HTTP Request: POST https://api.openai.com/v1/chat/completions \"HTTP/1.1 200 OK\"\n",
      "INFO: HTTP Request: POST https://api.openai.com/v1/chat/completions \"HTTP/1.1 200 OK\"\n",
      "INFO: HTTP Request: POST https://api.openai.com/v1/chat/completions \"HTTP/1.1 200 OK\"\n",
      "INFO: HTTP Request: POST https://api.openai.com/v1/chat/completions \"HTTP/1.1 200 OK\"\n",
      "INFO: HTTP Request: POST https://api.openai.com/v1/chat/completions \"HTTP/1.1 200 OK\"\n",
      "INFO: HTTP Request: POST https://api.openai.com/v1/chat/completions \"HTTP/1.1 200 OK\"\n",
      "INFO: HTTP Request: POST https://api.openai.com/v1/chat/completions \"HTTP/1.1 200 OK\"\n",
      "INFO: HTTP Request: POST https://api.openai.com/v1/chat/completions \"HTTP/1.1 200 OK\"\n",
      "INFO: HTTP Request: POST https://api.openai.com/v1/chat/completions \"HTTP/1.1 200 OK\"\n",
      "INFO: HTTP Request: POST https://api.openai.com/v1/chat/completions \"HTTP/1.1 200 OK\"\n",
      "INFO: HTTP Request: POST https://api.openai.com/v1/chat/completions \"HTTP/1.1 200 OK\"\n",
      "INFO: HTTP Request: POST https://api.openai.com/v1/chat/completions \"HTTP/1.1 200 OK\"\n",
      "INFO: HTTP Request: POST https://api.openai.com/v1/chat/completions \"HTTP/1.1 200 OK\"\n",
      "INFO: HTTP Request: POST https://api.openai.com/v1/chat/completions \"HTTP/1.1 200 OK\"\n",
      "INFO: HTTP Request: POST https://api.openai.com/v1/chat/completions \"HTTP/1.1 200 OK\"\n",
      "INFO: HTTP Request: POST https://api.openai.com/v1/chat/completions \"HTTP/1.1 200 OK\"\n",
      "INFO: HTTP Request: POST https://api.openai.com/v1/chat/completions \"HTTP/1.1 200 OK\"\n",
      "INFO: HTTP Request: POST https://api.openai.com/v1/chat/completions \"HTTP/1.1 200 OK\"\n",
      "INFO: HTTP Request: POST https://api.openai.com/v1/chat/completions \"HTTP/1.1 200 OK\"\n",
      "INFO: HTTP Request: POST https://api.openai.com/v1/chat/completions \"HTTP/1.1 200 OK\"\n",
      "INFO: HTTP Request: POST https://api.openai.com/v1/chat/completions \"HTTP/1.1 200 OK\"\n",
      "INFO: HTTP Request: POST https://api.openai.com/v1/chat/completions \"HTTP/1.1 200 OK\"\n",
      "INFO: HTTP Request: POST https://api.openai.com/v1/chat/completions \"HTTP/1.1 200 OK\"\n",
      "INFO: HTTP Request: POST https://api.openai.com/v1/chat/completions \"HTTP/1.1 200 OK\"\n",
      "INFO: HTTP Request: POST https://api.openai.com/v1/chat/completions \"HTTP/1.1 200 OK\"\n",
      "INFO: HTTP Request: POST https://api.openai.com/v1/chat/completions \"HTTP/1.1 200 OK\"\n",
      "INFO: HTTP Request: POST https://api.openai.com/v1/chat/completions \"HTTP/1.1 200 OK\"\n",
      "INFO: HTTP Request: POST https://api.openai.com/v1/chat/completions \"HTTP/1.1 200 OK\"\n",
      "INFO: HTTP Request: POST https://api.openai.com/v1/chat/completions \"HTTP/1.1 200 OK\"\n",
      "INFO: HTTP Request: POST https://api.openai.com/v1/chat/completions \"HTTP/1.1 200 OK\"\n",
      "INFO: HTTP Request: POST https://api.openai.com/v1/chat/completions \"HTTP/1.1 200 OK\"\n",
      "INFO: HTTP Request: POST https://api.openai.com/v1/chat/completions \"HTTP/1.1 200 OK\"\n",
      "INFO: HTTP Request: POST https://api.openai.com/v1/chat/completions \"HTTP/1.1 200 OK\"\n",
      "INFO: HTTP Request: POST https://api.openai.com/v1/chat/completions \"HTTP/1.1 200 OK\"\n",
      "INFO: HTTP Request: POST https://api.openai.com/v1/chat/completions \"HTTP/1.1 200 OK\"\n",
      "INFO: HTTP Request: POST https://api.openai.com/v1/chat/completions \"HTTP/1.1 200 OK\"\n",
      "INFO: HTTP Request: POST https://api.openai.com/v1/chat/completions \"HTTP/1.1 200 OK\"\n",
      "INFO: Processing LLM results to generate CX2 network\n",
      "INFO: Processing completed successfully for PMC7145522.\n",
      "INFO: Setting up output directory for PMC3898398\n"
     ]
    },
    {
     "name": "stdout",
     "output_type": "stream",
     "text": [
      "Time taken: 254.08 seconds (4.23 minutes)\n"
     ]
    },
    {
     "name": "stderr",
     "output_type": "stream",
     "text": [
      "INFO: Successfully downloaded XML for PMCID PMC3898398.\n",
      "INFO: Processing xml file to get text paragraphs\n",
      "INFO: Processing paragraphs with LLM-BEL model\n",
      "INFO: HTTP Request: POST https://api.openai.com/v1/chat/completions \"HTTP/1.1 200 OK\"\n",
      "INFO: HTTP Request: POST https://api.openai.com/v1/chat/completions \"HTTP/1.1 200 OK\"\n",
      "INFO: HTTP Request: POST https://api.openai.com/v1/chat/completions \"HTTP/1.1 200 OK\"\n",
      "INFO: HTTP Request: POST https://api.openai.com/v1/chat/completions \"HTTP/1.1 200 OK\"\n",
      "INFO: HTTP Request: POST https://api.openai.com/v1/chat/completions \"HTTP/1.1 200 OK\"\n",
      "INFO: HTTP Request: POST https://api.openai.com/v1/chat/completions \"HTTP/1.1 200 OK\"\n",
      "INFO: HTTP Request: POST https://api.openai.com/v1/chat/completions \"HTTP/1.1 200 OK\"\n",
      "INFO: HTTP Request: POST https://api.openai.com/v1/chat/completions \"HTTP/1.1 200 OK\"\n",
      "INFO: HTTP Request: POST https://api.openai.com/v1/chat/completions \"HTTP/1.1 200 OK\"\n",
      "INFO: HTTP Request: POST https://api.openai.com/v1/chat/completions \"HTTP/1.1 200 OK\"\n",
      "INFO: HTTP Request: POST https://api.openai.com/v1/chat/completions \"HTTP/1.1 200 OK\"\n",
      "INFO: HTTP Request: POST https://api.openai.com/v1/chat/completions \"HTTP/1.1 200 OK\"\n",
      "INFO: HTTP Request: POST https://api.openai.com/v1/chat/completions \"HTTP/1.1 200 OK\"\n",
      "INFO: HTTP Request: POST https://api.openai.com/v1/chat/completions \"HTTP/1.1 200 OK\"\n",
      "INFO: HTTP Request: POST https://api.openai.com/v1/chat/completions \"HTTP/1.1 200 OK\"\n",
      "INFO: HTTP Request: POST https://api.openai.com/v1/chat/completions \"HTTP/1.1 200 OK\"\n",
      "INFO: HTTP Request: POST https://api.openai.com/v1/chat/completions \"HTTP/1.1 200 OK\"\n",
      "INFO: HTTP Request: POST https://api.openai.com/v1/chat/completions \"HTTP/1.1 200 OK\"\n",
      "INFO: HTTP Request: POST https://api.openai.com/v1/chat/completions \"HTTP/1.1 200 OK\"\n",
      "INFO: HTTP Request: POST https://api.openai.com/v1/chat/completions \"HTTP/1.1 200 OK\"\n",
      "INFO: HTTP Request: POST https://api.openai.com/v1/chat/completions \"HTTP/1.1 200 OK\"\n",
      "INFO: HTTP Request: POST https://api.openai.com/v1/chat/completions \"HTTP/1.1 200 OK\"\n",
      "INFO: HTTP Request: POST https://api.openai.com/v1/chat/completions \"HTTP/1.1 200 OK\"\n",
      "INFO: HTTP Request: POST https://api.openai.com/v1/chat/completions \"HTTP/1.1 200 OK\"\n",
      "INFO: HTTP Request: POST https://api.openai.com/v1/chat/completions \"HTTP/1.1 200 OK\"\n",
      "INFO: HTTP Request: POST https://api.openai.com/v1/chat/completions \"HTTP/1.1 200 OK\"\n",
      "INFO: HTTP Request: POST https://api.openai.com/v1/chat/completions \"HTTP/1.1 200 OK\"\n",
      "INFO: HTTP Request: POST https://api.openai.com/v1/chat/completions \"HTTP/1.1 200 OK\"\n",
      "INFO: HTTP Request: POST https://api.openai.com/v1/chat/completions \"HTTP/1.1 200 OK\"\n",
      "INFO: HTTP Request: POST https://api.openai.com/v1/chat/completions \"HTTP/1.1 200 OK\"\n",
      "INFO: HTTP Request: POST https://api.openai.com/v1/chat/completions \"HTTP/1.1 200 OK\"\n",
      "INFO: HTTP Request: POST https://api.openai.com/v1/chat/completions \"HTTP/1.1 200 OK\"\n",
      "INFO: HTTP Request: POST https://api.openai.com/v1/chat/completions \"HTTP/1.1 200 OK\"\n",
      "INFO: HTTP Request: POST https://api.openai.com/v1/chat/completions \"HTTP/1.1 200 OK\"\n",
      "INFO: HTTP Request: POST https://api.openai.com/v1/chat/completions \"HTTP/1.1 200 OK\"\n",
      "INFO: HTTP Request: POST https://api.openai.com/v1/chat/completions \"HTTP/1.1 200 OK\"\n",
      "INFO: HTTP Request: POST https://api.openai.com/v1/chat/completions \"HTTP/1.1 200 OK\"\n",
      "INFO: Processing LLM results to generate CX2 network\n",
      "INFO: Processing completed successfully for PMC3898398.\n"
     ]
    },
    {
     "name": "stdout",
     "output_type": "stream",
     "text": [
      "Time taken: 238.49 seconds (3.97 minutes)\n"
     ]
    }
   ],
   "source": [
    "# Process each paper to generate knowledge graphs, upload, and return the NDEx network ids\n",
    "from bel_processing import process_paper_to_bel_cx2\n",
    "paper_ndex_ids = []\n",
    "for paper_id, paper in relevant_papers.items():\n",
    "    cx2_network = process_paper_to_bel_cx2(paper[\"pmcid\"])\n",
    "    network_id = ndex_client.save_new_cx2_network(cx2_network.to_cx2())\n",
    "    paper_ndex_ids.append(network_id)\n",
    "\n"
   ]
  },
  {
   "cell_type": "markdown",
   "metadata": {},
   "source": [
    "## Download the networks from NDEx, merge, upload."
   ]
  },
  {
   "cell_type": "code",
   "execution_count": 24,
   "metadata": {},
   "outputs": [
    {
     "name": "stdout",
     "output_type": "stream",
     "text": [
      "getting 9aad3bb0-e275-11ef-8e41-005056ae3c32\n",
      "getting 32651b82-e276-11ef-8e41-005056ae3c32\n",
      "getting c0d77a24-e276-11ef-8e41-005056ae3c32\n",
      "merging cx2 networks\n",
      "saving cx2 network to NDEx\n"
     ]
    }
   ],
   "source": [
    "from ndex2.cx2 import RawCX2NetworkFactory\n",
    "\n",
    "# Creating an instance of RawCX2NetworkFactory\n",
    "cx2_factory = RawCX2NetworkFactory()\n",
    "\n",
    "def merge_cx2(cx2_graphs):\n",
    "    merged_graph = CX2Network()\n",
    "    node_map = {}  # Maps (node_name, node_type) to node ID in merged graph\n",
    "    \n",
    "    # First, merge all nodes\n",
    "    for graph in cx2_graphs:\n",
    "        for node_id, node in graph.get_nodes().items():  # Changed to .items() based on docs\n",
    "            # Create a tuple of node attributes that define uniqueness\n",
    "            node_data = node[\"v\"]\n",
    "            node_name = node_data.get('name', '')\n",
    "            \n",
    "            if node_name not in node_map:\n",
    "                # Create new node using add_node() as documented\n",
    "                new_node_id = merged_graph.add_node(attributes=node_data)\n",
    "                node_map[node_name] = new_node_id\n",
    "    \n",
    "    # Then, merge all edges\n",
    "    for graph in cx2_graphs:\n",
    "        for edge_id, edge_data in graph.get_edges().items():  \n",
    "            # Get source and target directly from edge data\n",
    "            source_id = edge_data.get('s')  \n",
    "            target_id = edge_data.get('t') \n",
    "            \n",
    "            # Get source and target nodes\n",
    "            source_node = graph.get_node(source_id)\n",
    "            source_name = source_node[\"v\"][\"name\"]\n",
    "            target_node = graph.get_node(target_id)\n",
    "            target_name = target_node[\"v\"][\"name\"]\n",
    "            \n",
    "            merged_source = node_map[source_name]\n",
    "            merged_target = node_map[target_name]\n",
    "            \n",
    "            # Create edge using add_edge() as documented\n",
    "            merged_graph.add_edge(source=merged_source, \n",
    "                                target=merged_target, \n",
    "                                attributes=edge_data[\"v\"])\n",
    "    \n",
    "    return merged_graph\n",
    "\n",
    "# Get the networks from NDEx as a list of CX2Network objects\n",
    "paper_cx2_networks = []\n",
    "for ndex_id in paper_ndex_ids:\n",
    "    # if it is a url string, get the id at the end\n",
    "    ndex_id = ndex_id.split(\"/\")[-1]\n",
    "    # get the NDEx network\n",
    "    print(f\"getting {ndex_id}\")\n",
    "    response = ndex_client.get_network_as_cx2_stream(ndex_id)\n",
    "    network = cx2_factory.get_cx2network(response.json())\n",
    "    # Merge all paper knowledge graphs\n",
    "    paper_cx2_networks.append(network)\n",
    "\n",
    "print(\"merging cx2 networks\")\n",
    "merged_knowledge_graph = merge_cx2(paper_cx2_networks)\n",
    "merged_knowledge_graph.set_name(\"parp1_sirt1_knowledge_graph\")\n",
    "print(\"saving cx2 network to NDEx\")\n",
    "kg_network_id =  ndex_client.save_new_cx2_network(merged_knowledge_graph.to_cx2())"
   ]
  },
  {
   "cell_type": "markdown",
   "metadata": {},
   "source": [
    "## Prompt Templates\n",
    "Ask an LLM to review an analysis of a gene set.\n",
    "\n",
    "The LLM will be queried with and without the results of a query to the merged knowledge graph."
   ]
  },
  {
   "cell_type": "code",
   "execution_count": null,
   "metadata": {},
   "outputs": [
    {
     "data": {
      "text/plain": [
       "'\\nYou are playing the role of an expert cancer biologist.\\n\\nTASK:\\n1. Review the following gene/protein set.\\n2. Review the following summary of the gene set\\'s function and potential relationship to cancer.\\nThe summary was produced by an LLM.\\n3. Provide your critique, including your reasoning about the causal relationships between \\n4. Provide advice that can be incorporated in the prompt to the LLM to improve its output\\n5. Provide additional advice for the LLM as a causal knowledge graph of relevant facts that would help it. \\n\\nPresent one statement per line using BEL format. To refresh your knowledge of BEL, it is a language \\nfor representing biological knowledge in a computable form. Key aspects:\\n- Entities are represented with functions like p() for proteins, a() for abundances, bp() for biological processes\\n- Relationships between entities use operators like increases, decreases, directlyIncreases, association\\n- Entities must use standard namespaces (HGNC for human genes, CHEBI for chemicals, etc.)\\n- Statements in BEL are associated with evidence text\\n\\nGenes: {geneset}\\n\\nGene set summary:\\n{gene_set_summary}\\n\\n\\n{knowledge_graph}\\n\\nOutput format:\\n## Genes\\n<genes>\\n\\n## Critique:\\n<critique>\\n\\n\"advice\": \"<advice_to_llm>\",\\n\"causal_relationship_advice_graph\": \"<BEL_statement> : <evidence_text><newline>...\"\\n}}\\n'"
      ]
     },
     "execution_count": 53,
     "metadata": {},
     "output_type": "execute_result"
    }
   ],
   "source": [
    "PROMPT_TEMPLATE = \"\"\"\n",
    "You are playing the role of an expert cancer biologist.\n",
    "\n",
    "TASK:\n",
    "1. Review the following gene/protein set.\n",
    "2. Review the following summary of the gene set's function and potential relationship to cancer.\n",
    "The summary was produced by an LLM.\n",
    "3. Provide your critique, including your reasoning about the causal relationships between \n",
    "4. Provide advice that can be incorporated in the prompt to the LLM to improve its output\n",
    "5. Provide additional advice for the LLM as a causal knowledge graph of relevant facts that would help it. \n",
    "\n",
    "Present one statement per line using BEL format. To refresh your knowledge of BEL, it is a language \n",
    "for representing biological knowledge in a computable form. Key aspects:\n",
    "- Entities are represented with functions like p() for proteins, a() for abundances, bp() for biological processes\n",
    "- Relationships between entities use operators like increases, decreases, directlyIncreases, association\n",
    "- Entities must use standard namespaces (HGNC for human genes, CHEBI for chemicals, etc.)\n",
    "- Statements in BEL are associated with evidence text\n",
    "\n",
    "Genes: {geneset}\n",
    "\n",
    "Gene set summary:\n",
    "{gene_set_summary}\n",
    "\n",
    "\n",
    "{knowledge_graph}\n",
    "\n",
    "Output format:\n",
    "## Genes\n",
    "<genes>\n",
    "\n",
    "## Critique:\n",
    "<critique>\n",
    "\n",
    "\"advice\": \"<advice_to_llm>\",\n",
    "\"causal_relationship_advice_graph\": \" - <BEL_statement> : <evidence_text><newline>...\"\n",
    "}}\n",
    "\"\"\"\n",
    "\n",
    "KNOWLEDGE_GRAPH_TEMPLATE = \"\"\"\n",
    "Here is information in BEL format that may help you perform your critique and be used in your advice.\n",
    "Be sure to distinguish when you draw on this information vs when you use your own knowledge.\n",
    "\n",
    "{statements}\n",
    "\n",
    "\"\"\"\n",
    "\n",
    "GENE_SET = \"FOXO1, FOXO3, HIF1A, NAMPT, NFKB1, PARP1, PPARG, SIRT1\"\n",
    "\n",
    "## This summary was generated by Claude 3.5 Sonnet\n",
    "GENE_SET_SUMMARY = \"\"\"\n",
    "Core protein network in cancer metabolism:\n",
    "\n",
    "Primary NAD+ regulatory circuit:\n",
    "\n",
    "SIRT1-NAMPT-PARP1: NAD+-dependent switch coupling energy status to cell fate\n",
    "NAMPT produces NAD+, SIRT1 and PARP1 compete for it under stress/damage\n",
    "Competition determines survival vs death pathway activation\n",
    "\n",
    "Transcriptional integration hub:\n",
    "\n",
    "FOXO1/FOXO3 + NFKB1: integrate stress/survival signals\n",
    "HIF1A + PPARG: coordinate metabolic adaptation and hypoxia response\n",
    "Direct SIRT1-mediated deacetylation of FOXO1/FOXO3 and HIF1A\n",
    "\n",
    "Critical additional regulators with strong experimental evidence:\n",
    "\n",
    "PRKAA1/PRKAA2: master energy sensor, directly phosphorylates FOXOs, regulates NAMPT\n",
    "TP53: couples metabolism to DNA damage via SIRT1/PARP1 interactions\n",
    "PPARGC1A: controls mitochondrial function through SIRT1/PPARG/FOXO axis\n",
    "\n",
    "System integration:\n",
    "\n",
    "Functions as metabolic checkpoint where NAD+ availability determines outcomes\n",
    "PRKAA1/2 sets threshold based on energy status (AMP:ATP ratio)\n",
    "TP53 integrates DNA damage signals into the network\n",
    "PPARGC1A fine-tunes mitochondrial response\n",
    "All components show direct physical/functional interactions in cancer metabolism\n",
    "Network particularly active under metabolic stress and DNA damage conditions\n",
    "\"\"\"\n",
    "\n",
    "PROMPT_TEMPLATE"
   ]
  },
  {
   "cell_type": "code",
   "execution_count": 54,
   "metadata": {},
   "outputs": [
    {
     "name": "stderr",
     "output_type": "stream",
     "text": [
      "INFO: HTTP Request: POST https://api.openai.com/v1/chat/completions \"HTTP/1.1 200 OK\"\n"
     ]
    },
    {
     "name": "stdout",
     "output_type": "stream",
     "text": [
      "Query string to KG in NDEx: SIRT1 NAMPT PARP1 FOXO1 FOXO3 NFKB1 HIF1A PPARG PRKAA1 PRKAA2 TP53 PPARGC1A\n",
      "NDEx query done\n"
     ]
    }
   ],
   "source": [
    "import os\n",
    "from openai import OpenAI\n",
    "from typing import List\n",
    "\n",
    "# Get API key from environment\n",
    "OPENAI_API_KEY = os.environ.get(\"OPENAI_API_KEY\")\n",
    "if not OPENAI_API_KEY:\n",
    "    raise ValueError(\"OPENAI_API_KEY not found in environment variables\")\n",
    "\n",
    "# Initialize OpenAI client\n",
    "client = OpenAI(api_key=OPENAI_API_KEY)\n",
    "\n",
    "# Template for extracting gene entities\n",
    "entity_prompt_template = \"\"\"\n",
    "Interpret this text to extract all genes/proteins mentioned and output them as a whitespace-separated list of human gene symbols.\n",
    "<example>\n",
    "TP53 AKT1 MTOR\n",
    "</example>\n",
    "Only output that list, nothing else.\n",
    "<text>\n",
    "{text}\n",
    "</text>\n",
    "\"\"\"\n",
    "\n",
    "def query_llm(prompt: str) -> str:\n",
    "    \"\"\"\n",
    "    Query OpenAI's GPT model.\n",
    "    \"\"\"\n",
    "    try:\n",
    "        completion = client.chat.completions.create(\n",
    "            model=\"gpt-4\",\n",
    "            messages=[\n",
    "                {\"role\": \"user\", \"content\": prompt}\n",
    "            ],\n",
    "            temperature=0.7,\n",
    "            max_tokens=1000\n",
    "        )\n",
    "        return completion.choices[0].message.content.strip()\n",
    "    except Exception as e:\n",
    "        print(f\"Error querying OpenAI: {str(e)}\")\n",
    "        return \"\"\n",
    "\n",
    "def get_entities(text: str) -> List[str]:\n",
    "    \"\"\"\n",
    "    Extract gene entities from text using LLM.\n",
    "    \"\"\"\n",
    "    prompt = entity_prompt_template.format(text=text)\n",
    "    response = query_llm(prompt)\n",
    "    if response:\n",
    "        return response\n",
    "    return \"\"\n",
    "\n",
    "kg_query_string = get_entities(GENE_SET_SUMMARY)\n",
    "\n",
    "print(f'Query string to KG in NDEx: {kg_query_string}')\n",
    "\n",
    "kg_network_id = \"7ce89103-a372-11ef-99aa-005056ae3c32\"\n",
    "\n",
    "nice_kg_query_network = ndex2.create_nice_cx_from_raw_cx(ndex_client.get_neighborhood(kg_network_id, kg_query_string, search_depth=1))\n",
    "\n",
    "# convert the network to a string containing BEL statements and supporting evidence\n",
    "knowledge_graph = \"\"\n",
    "\n",
    "for edge_id, edge_obj in nice_kg_query_network.get_edges():\n",
    "    knowledge_graph += nice_kg_query_network.get_edge_attribute_value(edge_obj, \"bel_expression\")\n",
    "    knowledge_graph += \"\\n\"\n",
    "\n",
    "print(\"NDEx query done\")"
   ]
  },
  {
   "cell_type": "markdown",
   "metadata": {},
   "source": [
    "## Query without the knowledge graph"
   ]
  },
  {
   "cell_type": "code",
   "execution_count": 57,
   "metadata": {},
   "outputs": [
    {
     "name": "stderr",
     "output_type": "stream",
     "text": [
      "INFO: HTTP Request: POST https://api.openai.com/v1/chat/completions \"HTTP/1.1 200 OK\"\n"
     ]
    },
    {
     "name": "stdout",
     "output_type": "stream",
     "text": [
      "## Genes\n",
      "FOXO1, FOXO3, HIF1A, NAMPT, NFKB1, PARP1, PPARG, SIRT1\n",
      "\n",
      "## Critique:\n",
      "The summary provides a reasonably accurate description of the roles of the given gene set in cancer metabolism. It appropriately highlights the importance of the SIRT1-NAMPT-PARP1 circuit in regulating NAD+ and its role in determining cell fate under stress conditions. The roles of transcription factors like FOXO1/3, NFKB1, HIF1A, and PPARG as integrators of cellular stress signals and metabolic adaptations are also well summarized. However, the summary doesn't define the directionality of the interactions between these genes/proteins. For instance, it mentions that SIRT1 mediates the deacetylation of FOXO1/3 and HIF1A, but it doesn't specify whether this increases or decreases the activity of these proteins. Similarly, the role of TP53 in coupling metabolism to DNA damage via SIRT1/PARP1 interactions is not clear.\n",
      "\n",
      "## Advice:\n",
      "The LLM should focus more on the directionality and consequences of the interactions between the genes/proteins. For instance, it should specify whether the SIRT1-mediated deacetylation of FOXO1/3 and HIF1A results in their activation or inhibition. Similarly, the LLM should clarify how TP53 integrates DNA damage signals into the network.\n",
      "\n",
      "## Causal Relationship Advice Graph:\n",
      "p(HGNC:SIRT1) directlyIncreases p(HGNC:NAMPT) : \"SIRT1 directly increases the activity of NAMPT\"\n",
      "p(HGNC:NAMPT) directlyIncreases a(CHEBI:NAD+) : \"NAMPT directly increases NAD+ availability\"\n",
      "a(CHEBI:NAD+) association bp(GO:\"cell fate commitment\") : \"NAD+ availability is associated with cell fate commitment\"\n",
      "p(HGNC:NFKB1) association bp(GO:\"response to stress\") : \"NFKB1 is associated with stress response\"\n",
      "p(HGNC:FOXO1) association bp(GO:\"response to stress\") : \"FOXO1 is associated with stress response\"\n",
      "p(HGNC:FOXO3) association bp(GO:\"response to stress\") : \"FOXO3 is associated with stress response\"\n",
      "p(HGNC:HIF1A) association bp(GO:\"response to hypoxia\") : \"HIF1A is associated with hypoxia response\"\n",
      "p(HGNC:PPARG) association bp(GO:\"metabolic process\") : \"PPARG is associated with metabolic processes\"\n",
      "p(HGNC:SIRT1) directlyDecreases p(HGNC:FOXO1) : \"SIRT1-mediated deacetylation directly decreases FOXO1 activity\"\n",
      "p(HGNC:SIRT1) directlyDecreases p(HGNC:FOXO3) : \"SIRT1-mediated deacetylation directly decreases FOXO3 activity\"\n",
      "p(HGNC:SIRT1) directlyDecreases p(HGNC:HIF1A) : \"SIRT1-mediated deacetylation directly decreases HIF1A activity\"\n",
      "p(HGNC:TP53) association bp(GO:\"response to DNA damage stimulus\") : \"TP53 is associated with response to DNA damage\"\n",
      "p(HGNC:TP53) association p(HGNC:SIRT1) : \"TP53 interacts with SIRT1 in response to DNA damage\"\n",
      "p(HGNC:PPARGC1A) association bp(GO:\"regulation of mitochondrial function\") : \"PPARGC1A is associated with the regulation of mitochondrial function\"\n"
     ]
    }
   ],
   "source": [
    "prompt = PROMPT_TEMPLATE.format(\n",
    "    geneset=GENE_SET,\n",
    "    gene_set_summary = GENE_SET_SUMMARY,\n",
    "    knowledge_graph=\"\"\n",
    ")\n",
    "\n",
    "analysis_no_kg = query_llm(prompt)\n",
    "print(analysis_no_kg)"
   ]
  },
  {
   "cell_type": "markdown",
   "metadata": {},
   "source": [
    "## Query with the knowledge graph"
   ]
  },
  {
   "cell_type": "code",
   "execution_count": 56,
   "metadata": {},
   "outputs": [
    {
     "name": "stderr",
     "output_type": "stream",
     "text": [
      "INFO: HTTP Request: POST https://api.openai.com/v1/chat/completions \"HTTP/1.1 200 OK\"\n"
     ]
    },
    {
     "name": "stdout",
     "output_type": "stream",
     "text": [
      "## Genes\n",
      "FOXO1, FOXO3, HIF1A, NAMPT, NFKB1, PARP1, PPARG, SIRT1\n",
      "\n",
      "## Critique:\n",
      "The LLM has correctly identified key components of the NAD+ regulatory circuit and their roles in cancer metabolism. It correctly states that NAMPT, SIRT1, and PARP1 are involved in the NAD+-dependent switch that couples energy status to cell fate. The transcriptional integration hub involving FOXO1/FOXO3 and NFKB1, and HIF1A and PPARG is also accurate. The additional regulators PRKAA1/2, TP53, and PPARGC1A are indeed involved in these processes. \n",
      "\n",
      "However, the LLM misses some key points. The BEL statements suggest that SIRT1 can both increase and decrease PARP1, which can be confusing. This could be better clarified by mentioning that SIRT1 usually inhibits PARP1 but can also increase its activity under certain conditions. The statement that \"All components show direct physical/functional interactions in cancer metabolism\" is too broad, as not all components physically interact with each other.\n",
      "\n",
      "## Advice:\n",
      "The prompt to the LLM could be improved by asking for a more detailed explanation of the roles of each gene in cancer metabolism. For example, it could ask \"What evidence supports the role of each gene in cancer metabolism?\". This would prompt the LLM to provide a more detailed response.\n",
      "\n",
      "## Causal relationship advice graph:\n",
      "p(HGNC:SIRT1) directlyDecreases p(HGNC:PARP1) : \"SIRT1 directly inhibits PARP1, affecting the cell's ability to repair DNA damage.\"\n",
      "p(HGNC:SIRT1) hasActivity ma(GO:\"protein deacetylase activity\") : \"SIRT1 has protein deacetylase activity, which plays a role in regulating cellular processes like cell survival and metabolism.\"\n",
      "p(HGNC:PARP1) hasActivity ma(GO:\"poly(ADP-ribose) polymerase activity\") : \"PARP1 is involved in DNA repair through its poly(ADP-ribose) polymerase activity.\"\n",
      "p(HGNC:NAMPT) increases a(CHEBI:\"nicotinamide adenine dinucleotide\") : \"NAMPT increases levels of NAD+, a crucial molecule in the cell's energy metabolism.\"\n",
      "p(HGNC:FOXO1) association bp(GOBP:\"response to oxidative stress\") : \"FOXO1 is involved in the cell's response to oxidative stress, which can contribute to cancer development.\"\n",
      "p(HGNC:FOXO3) association bp(GOBP:\"cell cycle arrest\") : \"FOXO3 can induce cell cycle arrest, preventing the proliferation of cancer cells.\"\n",
      "p(HGNC:HIF1A) association bp(GOBP:\"response to hypoxia\") : \"HIF1A is involved in the cell's response to low oxygen levels, which can influence tumor growth and progression.\"\n",
      "p(HGNC:NFKB1) association bp(GOBP:\"immune response\") : \"NFKB1 is involved in the immune response, which can play a role in the body's ability to fight cancer.\"\n",
      "p(HGNC:PPARG) association bp(GOBP:\"adipocyte differentiation\") : \"PPARG is involved in adipocyte differentiation, and its dysregulation can contribute to cancer development.\"\n",
      "p(HGNC:TP53) association bp(GOBP:\"DNA damage response\") : \"TP53 is a key player in the DNA damage response, and its mutation is a common event in many cancers.\"\n"
     ]
    }
   ],
   "source": [
    "knowledge_graph_prompt = KNOWLEDGE_GRAPH_TEMPLATE.format(\n",
    "    statements = knowledge_graph)\n",
    "\n",
    "prompt = PROMPT_TEMPLATE.format(\n",
    "    geneset=GENE_SET,\n",
    "    gene_set_summary = GENE_SET_SUMMARY,\n",
    "    knowledge_graph=knowledge_graph_prompt\n",
    ")\n",
    "\n",
    "analysis_with_kg = query_llm(prompt)\n",
    "print(analysis_with_kg)"
   ]
  },
  {
   "cell_type": "code",
   "execution_count": null,
   "metadata": {},
   "outputs": [],
   "source": []
  }
 ],
 "metadata": {
  "kernelspec": {
   "display_name": ".venv",
   "language": "python",
   "name": "python3"
  },
  "language_info": {
   "codemirror_mode": {
    "name": "ipython",
    "version": 3
   },
   "file_extension": ".py",
   "mimetype": "text/x-python",
   "name": "python",
   "nbconvert_exporter": "python",
   "pygments_lexer": "ipython3",
   "version": "3.11.7"
  }
 },
 "nbformat": 4,
 "nbformat_minor": 4
}
