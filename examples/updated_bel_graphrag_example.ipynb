{
 "cells": [
  {
   "cell_type": "markdown",
   "id": "dee69092",
   "metadata": {},
   "source": [
    "# BEL Graph RAG Example for paper usecases\n",
    "\n"
   ]
  },
  {
   "cell_type": "code",
   "execution_count": 2,
   "id": "1d6c4abf",
   "metadata": {},
   "outputs": [],
   "source": [
    "# %pip install ndex2 langchain"
   ]
  },
  {
   "cell_type": "code",
   "execution_count": 3,
   "id": "941310df",
   "metadata": {},
   "outputs": [
    {
     "name": "stdout",
     "output_type": "stream",
     "text": [
      "\u001b[33mWARNING: Ignoring invalid distribution ~ympy (/opt/homebrew/anaconda3/lib/python3.11/site-packages)\u001b[0m\u001b[33m\n",
      "\u001b[0m\u001b[33mWARNING: Ignoring invalid distribution ~ympy (/opt/homebrew/anaconda3/lib/python3.11/site-packages)\u001b[0m\u001b[33m\n",
      "\u001b[0m\u001b[33mWARNING: Ignoring invalid distribution ~ympy (/opt/homebrew/anaconda3/lib/python3.11/site-packages)\u001b[0m\u001b[33m\n",
      "\u001b[0mNote: you may need to restart the kernel to use updated packages.\n"
     ]
    }
   ],
   "source": [
    "%pip install texttoknowledgegraph==0.3.8 -q"
   ]
  },
  {
   "cell_type": "code",
   "execution_count": 4,
   "id": "e3a7fe32",
   "metadata": {},
   "outputs": [],
   "source": [
    "import os\n",
    "import json\n",
    "from typing import List, Dict, Any\n",
    "from pathlib import Path\n",
    "import sys\n",
    "from ndex2 import Ndex2\n",
    "import ndex2\n",
    "from ndex2.cx2 import CX2Network\n",
    "from dotenv import load_dotenv\n",
    "from ndex2.cx2 import RawCX2NetworkFactory\n",
    "load_dotenv()\n",
    "\n",
    "\n",
    "\n",
    "# Get NDEx account and password from environment variables\n",
    "OPENAI_API_KEY   = os.getenv(\"OPENAI_API_KEY\")\n",
    "NDEX_ACCOUNT     = os.getenv(\"NDEX_ACCOUNT\")\n",
    "NDEX_PASSWORD    = os.getenv(\"NDEX_PASSWORD\")\n",
    "assert all([OPENAI_API_KEY, NDEX_ACCOUNT, NDEX_PASSWORD]), \"Missing creds\"\n",
    "\n",
    "# Connect to NDEx using the provided credentials\n",
    "ndex_client = Ndex2(username=NDEX_ACCOUNT, password=NDEX_PASSWORD)\n",
    "\n"
   ]
  },
  {
   "cell_type": "markdown",
   "id": "b76465a4",
   "metadata": {},
   "source": [
    "## Run GraphRAG query on first paper"
   ]
  },
  {
   "cell_type": "code",
   "execution_count": 5,
   "id": "5107c796",
   "metadata": {},
   "outputs": [],
   "source": [
    "# Download the network of the first paper: pmid10436023\n",
    "\n",
    "BASE_KG_UUID = \"03290389-567f-11f0-a218-005056ae3c32\"   \n",
    "base_cx2 = ndex_client.get_network_as_cx2_stream(BASE_KG_UUID).json()\n",
    "with open(\"base_kg.cx2\", \"w\") as f: json.dump(base_cx2, f)"
   ]
  },
  {
   "cell_type": "code",
   "execution_count": 6,
   "id": "163c2adf",
   "metadata": {},
   "outputs": [],
   "source": [
    "from openai import OpenAI\n",
    "from typing import List\n",
    "\n",
    "# Initialize OpenAI client\n",
    "client = OpenAI(api_key=OPENAI_API_KEY)\n",
    "\n",
    "def query_llm(prompt: str) -> str:\n",
    "    \"\"\"\n",
    "    Query OpenAI's GPT model.\n",
    "    \"\"\"\n",
    "    try:\n",
    "        completion = client.chat.completions.create(\n",
    "            model=\"gpt-4o\",\n",
    "            messages=[\n",
    "                {\"role\": \"user\", \"content\": prompt}\n",
    "            ],\n",
    "            temperature=0.7,\n",
    "            max_tokens=1000\n",
    "        )\n",
    "        return completion.choices[0].message.content.strip()\n",
    "    except Exception as e:\n",
    "        print(f\"Error querying OpenAI: {str(e)}\")\n",
    "        return \"\"\n"
   ]
  },
  {
   "cell_type": "markdown",
   "id": "5036a868",
   "metadata": {},
   "source": [
    "gene list: SIRT1, NAMPT, PARP1, TP53, CDK2, BRCA1\n",
    "- sirt1 and nampt: metabolism genes\n",
    "- parp1, tp53, brca1: dna damage response genes\n",
    "- cdk2: cell cycle gene\n",
    "\n",
    "\n",
    "This usecase was choosen because we want to understand how different biological processes are connected to each other"
   ]
  },
  {
   "cell_type": "markdown",
   "id": "8d5768ab",
   "metadata": {},
   "source": [
    "Try the option of lettin the LLM use its knowledge and the option where we specifically tell it to use only the knowledge graph.\n",
    "\n",
    "- IMPORTANT NOTE: ONLY USE THE INFORMATION PROVIDED IN THE KNOWLEDGE GRAPH TO ANSWER THE QUESTION. DO NOT MAKE UP ANY INFORMATION OR USE YOUR OWN KNOWLEDGE.\n",
    "\n",
    "- IMPORTANT NOTE: YOU CAN MAKE USE OF YOUR KNOWLEDGE OF BIOLOGY AND THE PROVIDED KNOWLEDGE GRAPH TO ANSWER THE QUESTION.\n"
   ]
  },
  {
   "cell_type": "code",
   "execution_count": 11,
   "id": "b9360cea",
   "metadata": {},
   "outputs": [],
   "source": [
    "# Base prompt for LLM query\n",
    "PROMPT_TEMPLATE = \"\"\"\n",
    "You are playing the role of an expert cancer biologist.\n",
    "\n",
    "QUESTION: How does metabolism affect dna damage response?\n",
    "\n",
    "IMPORTANT NOTE: YOU CAN MAKE USE OF YOUR KNOWLEDGE OF BIOLOGY AND THE PROVIDED KNOWLEDGE GRAPH TO ANSWER THE QUESTION.\n",
    "\n",
    "TASK:\n",
    "1. Review the following gene/protein set and the provided knowledge graph.\n",
    "2. Answer the question under QUESTION based on the provided knowledge graph.\n",
    "3. Provide your final answer as a paragraph summary\n",
    "\n",
    "Genes: {geneset}\n",
    "\n",
    "{knowledge_graph}\n",
    "\"\"\"\n"
   ]
  },
  {
   "cell_type": "code",
   "execution_count": 12,
   "id": "1fd16dde",
   "metadata": {},
   "outputs": [],
   "source": [
    "# Function that does graphrag query and returns the llm response\n",
    "\n",
    "from ndex2 import create_nice_cx_from_raw_cx\n",
    "from typing import Callable, Union, List\n",
    "\n",
    "def graph_rag_query(\n",
    "    geneset: Union[List[str], str],\n",
    "    ndex_id: str,\n",
    "    prompt_template: str,\n",
    "    ndex_client,\n",
    "    llm_query_fn: Callable[[str], str],\n",
    "    search_depth: int = 1\n",
    ") -> str:\n",
    "    \"\"\"\n",
    "    Perform a graph-RAG: pull a 1-hop neighborhood from NDEx, extract BEL context,\n",
    "    fill the prompt, and query the LLM.\n",
    "\n",
    "    Inputs:\n",
    "      geneset         – either a list of HGNC symbols or a whitespace-delimited string\n",
    "      ndex_id         – NDEx network UUID\n",
    "      prompt_template – string containing placeholders {geneset} and {knowledge_graph}\n",
    "      ndex_client     – an instantiated ndex2.client.Ndex2 object\n",
    "      llm_query_fn    – function that takes a single string prompt and returns the LLM’s response\n",
    "      search_depth    – how many hops out to pull (default=1)\n",
    "\n",
    "    Returns:\n",
    "      The raw response string from the LLM.\n",
    "    \"\"\"\n",
    "    # Normalize gene list to Python list\n",
    "    if isinstance(geneset, str):\n",
    "        gene_list = geneset.split()\n",
    "    else:\n",
    "        gene_list = geneset\n",
    "\n",
    "    # Build the semicolon-delimited search string for NDEx\n",
    "    search_string = \";\".join(gene_list)\n",
    "\n",
    "    # 1) Fetch the neighborhood as raw CX2 JSON\n",
    "    raw_cx2 = ndex_client.get_neighborhood(\n",
    "        ndex_id,\n",
    "        search_string=search_string,\n",
    "        search_depth=search_depth\n",
    "    )\n",
    "\n",
    "    # 2) Wrap in the “nice” CX helper\n",
    "    nice_net = create_nice_cx_from_raw_cx(raw_cx2)\n",
    "\n",
    "    # 3) Extract BEL expressions from every edge\n",
    "    bel_lines = []\n",
    "    for edge_id, edge_obj in nice_net.get_edges():\n",
    "        bel_stmt = nice_net.get_edge_attribute_value(edge_obj, \"bel_expression\")\n",
    "        bel_lines.append(bel_stmt)\n",
    "    knowledge_graph = \"\\n\".join(bel_lines)\n",
    "\n",
    "    # 4) Fill in the prompt template\n",
    "    formatted_prompt = prompt_template.format(\n",
    "        geneset=\" \".join(gene_list),\n",
    "        knowledge_graph=knowledge_graph\n",
    "    )\n",
    "\n",
    "    # 5) Call the LLM and return its response\n",
    "    return llm_query_fn(formatted_prompt)\n",
    "\n",
    "\n",
    "# ─── Example Usage ─────────────────────────────────────────────────────────────\n",
    "\n",
    "# response = graph_rag_query(\n",
    "#     geneset=[\"SIRT1\", \"PARP1\", \"TP53\"],\n",
    "#     ndex_id=BASE_KG_UUID,\n",
    "#     prompt_template=PROMPT_TEMPLATE,\n",
    "#     ndex_client=ndex,\n",
    "#     llm_query_fn=query_llm\n",
    "# )\n",
    "# print(response)"
   ]
  },
  {
   "cell_type": "code",
   "execution_count": 10,
   "id": "88130421",
   "metadata": {},
   "outputs": [
    {
     "name": "stdout",
     "output_type": "stream",
     "text": [
      "The interplay between metabolism and DNA damage response (DDR) involves a complex network of genes and proteins, where metabolic processes can influence DDR pathways. From the knowledge graph provided, we can infer several interactions involving the genes and proteins relevant to metabolism and DDR. \n",
      "\n",
      "SIRT1 and NAMPT, although not directly mentioned in the knowledge graph, are known to be involved in metabolic processes and can influence DDR through their roles in NAD+ metabolism and deacetylation activities. PARP1, a critical protein in DNA repair, directly decreases the activity of TP53, a central player in DDR. TP53, known as a tumor suppressor protein, is pivotal in responding to DNA damage by inducing cell cycle arrest, apoptosis, and DNA repair pathways. The modulation of TP53 activity by PARP1 suggests a link between metabolic sensing and DDR, as PARP1 activity is NAD+-dependent and thus, connected to cellular metabolic status.\n",
      "\n",
      "BRCA1, another key gene in DDR, is increased by TP53 activity, indicating a pathway where TP53 can stimulate DNA repair mechanisms. CDK2 is involved in cell cycle regulation and influences phosphorylation states of proteins like RB1 and E2F, which are integral to cell cycle progression and can be tied to DDR regulation. The phosphorylation and acetylation of TP53 at various sites further modulate its activity, with interactions involving proteins such as MDM2, EP300, and p14_3_3, highlighting the complex regulation of TP53 in response to DNA damage and potential metabolic cues.\n",
      "\n",
      "Overall, metabolism affects DNA damage response by influencing key players like TP53 and PARP1, where metabolic state can modulate DDR pathways via NAD+-dependent enzymes and signaling cascades that regulate cell cycle arrest and repair mechanisms.\n"
     ]
    }
   ],
   "source": [
    "graphrag_res = graph_rag_query(\n",
    "    geneset=[\"SIRT1\", \"NAMPT\", \"PARP1\", \"TP53\", \"BRCA1\", \"CDK2\"],\n",
    "    ndex_id=BASE_KG_UUID,\n",
    "    prompt_template=PROMPT_TEMPLATE,\n",
    "    ndex_client=ndex_client,\n",
    "    llm_query_fn=query_llm\n",
    ")\n",
    "\n",
    "print(graphrag_res)"
   ]
  },
  {
   "cell_type": "markdown",
   "id": "7525d2e5",
   "metadata": {},
   "source": [
    "### LLM response using only the knowledge graph\n",
    "\n",
    "\n",
    "The metabolism-related gene/protein set provided includes SIRT1, NAMPT, PARP1, TP53, BRCA1, and CDK2. According to the knowledge graph, TP53 plays a central role in the DNA damage response by influencing various cellular processes. TP53 increases the transcription of CDKN1A, PCNA, and GADD45A, which are important for cell cycle regulation and DNA repair. The activity of TP53 is modulated by phosphorylation at different serine residues, which influences its ability to form complexes and bind DNA. BRCA1 enhances the activity of TP53, promoting its role in DNA repair. PARP1, another protein in the set, directly decreases the activity of TP53, indicating a potential regulatory interaction between metabolism and the DNA damage response through the modulation of TP53 activity. CDK2, while not directly linked to TP53 in the knowledge graph, influences the phosphorylation of other proteins, which may indirectly affect DNA repair processes. Overall, the interplay between these proteins suggests that metabolic factors can impact the DNA damage response through modulation of TP53 activity, which is a key regulator of cell cycle arrest and apoptosis in response to DNA damage."
   ]
  },
  {
   "cell_type": "markdown",
   "id": "67530a21",
   "metadata": {},
   "source": [
    "### LLM response using knowledge graph and LLM knowledge\n",
    "\n",
    "The interplay between metabolism and DNA damage response (DDR) involves a complex network of genes and proteins, where metabolic processes can influence DDR pathways. From the knowledge graph provided, we can infer several interactions involving the genes and proteins relevant to metabolism and DDR. \n",
    "\n",
    "SIRT1 and NAMPT, although not directly mentioned in the knowledge graph, are known to be involved in metabolic processes and can influence DDR through their roles in NAD+ metabolism and deacetylation activities. PARP1, a critical protein in DNA repair, directly decreases the activity of TP53, a central player in DDR. TP53, known as a tumor suppressor protein, is pivotal in responding to DNA damage by inducing cell cycle arrest, apoptosis, and DNA repair pathways. The modulation of TP53 activity by PARP1 suggests a link between metabolic sensing and DDR, as PARP1 activity is NAD+-dependent and thus, connected to cellular metabolic status.\n",
    "\n",
    "BRCA1, another key gene in DDR, is increased by TP53 activity, indicating a pathway where TP53 can stimulate DNA repair mechanisms. CDK2 is involved in cell cycle regulation and influences phosphorylation states of proteins like RB1 and E2F, which are integral to cell cycle progression and can be tied to DDR regulation. The phosphorylation and acetylation of TP53 at various sites further modulate its activity, with interactions involving proteins such as MDM2, EP300, and p14_3_3, highlighting the complex regulation of TP53 in response to DNA damage and potential metabolic cues.\n",
    "\n",
    "Overall, metabolism affects DNA damage response by influencing key players like TP53 and PARP1, where metabolic state can modulate DDR pathways via NAD+-dependent enzymes and signaling cascades that regulate cell cycle arrest and repair mechanisms."
   ]
  },
  {
   "cell_type": "markdown",
   "id": "5e971c07",
   "metadata": {},
   "source": [
    "## Demonstate GraphRag on Merged Network of two papers"
   ]
  },
  {
   "cell_type": "code",
   "execution_count": 9,
   "id": "67df9554",
   "metadata": {},
   "outputs": [],
   "source": [
    "# Download network of the second paper: pmid24360018\n",
    "NEW_KG_UUID = \"57becd7b-5680-11f0-a218-005056ae3c32\"   \n",
    "new_cx2 = ndex_client.get_network_as_cx2_stream(NEW_KG_UUID).json()\n",
    "with open(\"new_kg.cx2\", \"w\") as f: json.dump(new_cx2, f)"
   ]
  },
  {
   "cell_type": "code",
   "execution_count": 12,
   "id": "c34799c2",
   "metadata": {},
   "outputs": [
    {
     "name": "stderr",
     "output_type": "stream",
     "text": [
      "/opt/homebrew/anaconda3/lib/python3.11/site-packages/pydub/utils.py:170: RuntimeWarning: Couldn't find ffmpeg or avconv - defaulting to ffmpeg, but may not work\n",
      "  warn(\"Couldn't find ffmpeg or avconv - defaulting to ffmpeg, but may not work\", RuntimeWarning)\n",
      "INFO: [2025-07-01 15:02:14] textToKnowledgeGraph.convert_to_cx2 - Setting visual style properties\n"
     ]
    },
    {
     "name": "stdout",
     "output_type": "stream",
     "text": [
      "Merged network UUID: https://www.ndexbio.org/v3/networks/ff2deee1-5683-11f0-a218-005056ae3c32\n"
     ]
    }
   ],
   "source": [
    "# Merge base and new networks\n",
    "from ndex2.cx2 import RawCX2NetworkFactory\n",
    "from textToKnowledgeGraph.convert_to_cx2 import add_style_to_network\n",
    "\n",
    "# Creating an instance of RawCX2NetworkFactory\n",
    "cx2_factory = RawCX2NetworkFactory()\n",
    "base_net = cx2_factory.get_cx2network(base_cx2)\n",
    "new_net  = cx2_factory.get_cx2network(new_cx2)\n",
    "\n",
    "def merge_cx2(cx2_graphs):\n",
    "    merged_graph = CX2Network()\n",
    "    node_map = {}  # Maps (node_name, node_type) to node ID in merged graph\n",
    "    \n",
    "    # First, merge all nodes\n",
    "    for graph in cx2_graphs:\n",
    "        for node_id, node in graph.get_nodes().items():  # Changed to .items() based on docs\n",
    "            # Create a tuple of node attributes that define uniqueness\n",
    "            node_data = node[\"v\"]\n",
    "            node_name = node_data.get('name', '')\n",
    "            \n",
    "            if node_name not in node_map:\n",
    "                # Create new node using add_node() as documented\n",
    "                new_node_id = merged_graph.add_node(attributes=node_data)\n",
    "                node_map[node_name] = new_node_id\n",
    "    \n",
    "    # Then, merge all edges\n",
    "    for graph in cx2_graphs:\n",
    "        for edge_id, edge_data in graph.get_edges().items():  \n",
    "            # Get source and target directly from edge data\n",
    "            source_id = edge_data.get('s')  \n",
    "            target_id = edge_data.get('t') \n",
    "            \n",
    "            # Get source and target nodes\n",
    "            source_node = graph.get_node(source_id)\n",
    "            source_name = source_node[\"v\"][\"name\"]\n",
    "            target_node = graph.get_node(target_id)\n",
    "            target_name = target_node[\"v\"][\"name\"]\n",
    "            \n",
    "            merged_source = node_map[source_name]\n",
    "            merged_target = node_map[target_name]\n",
    "            \n",
    "            # Create edge using add_edge() as documented\n",
    "            merged_graph.add_edge(source=merged_source, \n",
    "                                target=merged_target, \n",
    "                                attributes=edge_data[\"v\"])\n",
    "    \n",
    "    return merged_graph\n",
    "\n",
    "\n",
    "cx2_graphs = [base_net, new_net]\n",
    "merged_network = merge_cx2(cx2_graphs)\n",
    "\n",
    "# Apply style to the merged network\n",
    "add_style_to_network(\n",
    "    cx2_network=merged_network,\n",
    "    style_path=\"/Users/favourjames/Downloads/llm-text-to-knowledge-graph/textToKnowledgeGraph/cx_style.json\"   \n",
    ")\n",
    "\n",
    "merged_network.set_name(\"Merged Network of Base and New KGs\")\n",
    "\n",
    "# Upload the merged network to NDEx\n",
    "merged_uuid = ndex_client.save_new_cx2_network(merged_network.to_cx2())\n",
    "\n",
    "print(\"Merged network UUID:\", merged_uuid)"
   ]
  },
  {
   "cell_type": "code",
   "execution_count": 13,
   "id": "f78a24d9",
   "metadata": {},
   "outputs": [
    {
     "name": "stdout",
     "output_type": "stream",
     "text": [
      "The interplay between metabolism and the DNA damage response is significantly influenced by the regulation of key proteins, including SIRT1, PARP1, and TP53, which are interconnected through their dependence on NAD+ levels. SIRT1, a protein deacetylase, and PARP1, a poly(ADP-ribose) polymerase, both utilize NAD+ as a substrate, which positions NAD+ as a crucial intermediary in modulating their activities. SIRT1 is known to regulate the DNA damage response by enhancing double-strand break repair via nonhomologous end joining and by modulating the activities of various transcription factors and DNA repair proteins. It also directly decreases the activity of TP53, a pivotal tumor suppressor and regulator of DNA damage response, influencing processes like cell cycle arrest and apoptosis. In contrast, PARP1, which facilitates DNA repair and increases poly(ADP-ribosyl)ation, can directly decrease NAD+ levels, thereby influencing SIRT1 activity due to the competition for NAD+. This dynamic relationship is further complicated by the regulatory feedback loops involving NAMPT, the rate-limiting enzyme in NAD+ biosynthesis, which is influenced by metabolic signals and oncogenic factors such as MYC. Additionally, TP53 can indirectly affect NAD+ metabolism by regulating microRNAs that decrease SIRT1 activity, illustrating a complex network where metabolic states can alter the cellular response to DNA damage. This intricate balance ensures that metabolic cues are integrated into the cellular DNA damage response, influencing cell fate decisions in response to genotoxic stress.\n"
     ]
    }
   ],
   "source": [
    "# Graphrag query with merged graph context\n",
    "Merged_UUID = \"ff2deee1-5683-11f0-a218-005056ae3c32\"\n",
    "\n",
    "merged_graphrag_res = graph_rag_query(\n",
    "    geneset=[\"SIRT1\", \"NAMPT\", \"PARP1\", \"TP53\", \"BRCA1\", \"CDK2\"],\n",
    "    ndex_id=Merged_UUID,\n",
    "    prompt_template=PROMPT_TEMPLATE,\n",
    "    ndex_client=ndex_client,\n",
    "    llm_query_fn=query_llm\n",
    ")\n",
    "\n",
    "print(merged_graphrag_res)"
   ]
  },
  {
   "cell_type": "markdown",
   "id": "baa7d512",
   "metadata": {},
   "source": [
    "### LLM response using only the knowledge graph for merged network\n",
    "\n",
    "The metabolism of NAD(+) plays a crucial role in the regulation of the DNA damage response, with SIRT1 and PARP1 being central players. SIRT1 and PARP1 both require NAD(+) for their activity and regulate each other's functions, which influences the DNA damage response. SIRT1, through its deacetylase activity, increases the DNA damage response and double-strand break repair via nonhomologous end joining. It also directly decreases the activity of PARP1, which itself is involved in enhancing DNA repair and ADP-ribosylation processes. PARP1 reduces NAD(+) levels by converting it into ADP-ribose, while SIRT1 activity is negatively correlated with NAD(+) levels and PARP1 activity. TP53, another key gene in the DNA damage response, is modulated by both SIRT1 and PARP1, with SIRT1 directly decreasing TP53 activity, while PARP1 increases TP53 modification through ADP-ribosylation. Metabolically, NAMPT is a rate-limiting enzyme for NAD(+) production, linking energy status with DNA repair processes. Thus, NAD(+) metabolism and the interplay between SIRT1 and PARP1 are integral to managing DNA damage response, with ramifications on cellular processes like apoptosis, cell cycle arrest, and DNA repair mechanisms."
   ]
  },
  {
   "cell_type": "markdown",
   "id": "b08ae497",
   "metadata": {},
   "source": [
    "### LLM response using knowledge graph and LLM knowledge for merged network\n",
    "\n",
    "The interplay between metabolism and the DNA damage response is significantly influenced by the regulation of key proteins, including SIRT1, PARP1, and TP53, which are interconnected through their dependence on NAD+ levels. SIRT1, a protein deacetylase, and PARP1, a poly(ADP-ribose) polymerase, both utilize NAD+ as a substrate, which positions NAD+ as a crucial intermediary in modulating their activities. SIRT1 is known to regulate the DNA damage response by enhancing double-strand break repair via nonhomologous end joining and by modulating the activities of various transcription factors and DNA repair proteins. It also directly decreases the activity of TP53, a pivotal tumor suppressor and regulator of DNA damage response, influencing processes like cell cycle arrest and apoptosis. In contrast, PARP1, which facilitates DNA repair and increases poly(ADP-ribosyl)ation, can directly decrease NAD+ levels, thereby influencing SIRT1 activity due to the competition for NAD+. This dynamic relationship is further complicated by the regulatory feedback loops involving NAMPT, the rate-limiting enzyme in NAD+ biosynthesis, which is influenced by metabolic signals and oncogenic factors such as MYC. Additionally, TP53 can indirectly affect NAD+ metabolism by regulating microRNAs that decrease SIRT1 activity, illustrating a complex network where metabolic states can alter the cellular response to DNA damage. This intricate balance ensures that metabolic cues are integrated into the cellular DNA damage response, influencing cell fate decisions in response to genotoxic stress."
   ]
  },
  {
   "cell_type": "code",
   "execution_count": null,
   "id": "642cee26",
   "metadata": {},
   "outputs": [],
   "source": [
    "response = query_llm(\"How does metabolism affect dna damage response?\")\n",
    "print(response)"
   ]
  },
  {
   "cell_type": "markdown",
   "id": "edeb9739",
   "metadata": {},
   "source": [
    "Metabolism and the DNA damage response (DDR) are intricately connected, and their interaction plays a crucial role in maintaining genomic stability and overall cellular health. Here are several ways in which metabolism affects the DNA damage response:\n",
    "\n",
    "1. **Energy Supply**: The DDR is an energy-intensive process, requiring ATP for various repair mechanisms. Metabolic processes, particularly those in the mitochondria, provide the necessary energy to fuel these repair activities. A well-functioning metabolism ensures an adequate supply of ATP, facilitating efficient DNA repair.\n",
    "\n",
    "2. **Nucleotide Synthesis**: DNA repair often involves the synthesis of new nucleotides to replace damaged ones. Metabolism, especially pathways like the pentose phosphate pathway, provides the precursors for nucleotide biosynthesis. Disruptions in metabolism can lead to shortages in these building blocks, impairing the cell's ability to repair DNA.\n",
    "\n",
    "3. **Redox Balance**: Metabolism is a major source of reactive oxygen species (ROS), which can cause oxidative DNA damage. Cells must maintain a balance between ROS production and antioxidant defenses. An imbalance, often due to metabolic dysregulation, can increase oxidative stress and overwhelm the DDR, leading to accumulated damage.\n",
    "\n",
    "4. **Post-Translational Modifications**: Metabolic intermediates can influence post-translational modifications of DDR proteins. For example, acetyl-CoA from metabolism is crucial for acetylation reactions, which can modify the activity of proteins involved in DNA repair. Similarly, S-adenosylmethionine is a methyl donor for methylation reactions, influencing DDR protein function.\n",
    "\n",
    "5. **Sensing and Signaling**: Metabolic sensors, such as AMP-activated protein kinase (AMPK) and NAD+-dependent enzymes like sirtuins, can modulate the DDR. These sensors respond to changes in cellular energy status and can activate pathways that influence DNA repair processes.\n",
    "\n",
    "6. **Cell Cycle Regulation**: Metabolic states can influence cell cycle progression, which is tightly linked to DDR. For example, during nutrient scarcity, cells may delay cell cycle progression to provide more time for DNA repair before division. Metabolic cues thus help coordinate the DDR with cell cycle checkpoints.\n",
    "\n",
    "7. **Epigenetic Regulation**: Metabolites like acetyl-CoA and NAD+ are involved in the modification of histones and other proteins that affect chromatin structure. These modifications can influence the accessibility of damaged DNA to repair machinery, affecting the efficiency of the DDR.\n",
    "\n",
    "In summary, metabolism provides the energy and materials needed for DNA repair, regulates the activity of DDR proteins through post-translational modifications, and influences cellular responses to DNA damage through signaling pathways. Disruptions in metabolic processes can therefore have significant impacts on the efficacy of the DNA damage response and overall genomic stability."
   ]
  }
 ],
 "metadata": {
  "kernelspec": {
   "display_name": "base",
   "language": "python",
   "name": "python3"
  },
  "language_info": {
   "codemirror_mode": {
    "name": "ipython",
    "version": 3
   },
   "file_extension": ".py",
   "mimetype": "text/x-python",
   "name": "python",
   "nbconvert_exporter": "python",
   "pygments_lexer": "ipython3",
   "version": "3.11.8"
  }
 },
 "nbformat": 4,
 "nbformat_minor": 5
}
