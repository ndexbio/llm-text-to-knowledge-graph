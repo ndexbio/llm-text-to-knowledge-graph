{
 "cells": [
  {
   "cell_type": "markdown",
   "id": "dee69092",
   "metadata": {},
   "source": [
    "# BEL Graph RAG Example for paper usecases\n",
    "\n"
   ]
  },
  {
   "cell_type": "code",
   "execution_count": null,
   "id": "1d6c4abf",
   "metadata": {},
   "outputs": [],
   "source": [
    "# %pip install ndex2 langchain"
   ]
  },
  {
   "cell_type": "code",
   "execution_count": 36,
   "id": "941310df",
   "metadata": {},
   "outputs": [
    {
     "name": "stdout",
     "output_type": "stream",
     "text": [
      "\u001b[33mWARNING: Ignoring invalid distribution ~ympy (/opt/homebrew/anaconda3/lib/python3.11/site-packages)\u001b[0m\u001b[33m\n",
      "\u001b[0m\u001b[33mWARNING: Ignoring invalid distribution ~ympy (/opt/homebrew/anaconda3/lib/python3.11/site-packages)\u001b[0m\u001b[33m\n",
      "\u001b[0m\u001b[33mWARNING: Ignoring invalid distribution ~ympy (/opt/homebrew/anaconda3/lib/python3.11/site-packages)\u001b[0m\u001b[33m\n",
      "\u001b[0mNote: you may need to restart the kernel to use updated packages.\n"
     ]
    }
   ],
   "source": [
    "%pip install texttoknowledgegraph==0.3.8 -q"
   ]
  },
  {
   "cell_type": "code",
   "execution_count": 2,
   "id": "e3a7fe32",
   "metadata": {},
   "outputs": [],
   "source": [
    "import os\n",
    "import json\n",
    "from typing import List, Dict, Any\n",
    "from pathlib import Path\n",
    "import sys\n",
    "from ndex2 import Ndex2\n",
    "import ndex2\n",
    "from ndex2.cx2 import CX2Network\n",
    "from dotenv import load_dotenv\n",
    "from ndex2.cx2 import RawCX2NetworkFactory\n",
    "load_dotenv()\n",
    "\n",
    "\n",
    "\n",
    "# Get NDEx account and password from environment variables\n",
    "OPENAI_API_KEY   = os.getenv(\"OPENAI_API_KEY\")\n",
    "NDEX_ACCOUNT     = os.getenv(\"NDEX_ACCOUNT\")\n",
    "NDEX_PASSWORD    = os.getenv(\"NDEX_PASSWORD\")\n",
    "assert all([OPENAI_API_KEY, NDEX_ACCOUNT, NDEX_PASSWORD]), \"Missing creds\"\n",
    "\n",
    "# Connect to NDEx using the provided credentials\n",
    "ndex_client = Ndex2(username=NDEX_ACCOUNT, password=NDEX_PASSWORD)\n",
    "\n"
   ]
  },
  {
   "cell_type": "markdown",
   "id": "b76465a4",
   "metadata": {},
   "source": [
    "## Run Graphrag query on first paper"
   ]
  },
  {
   "cell_type": "code",
   "execution_count": 28,
   "id": "5107c796",
   "metadata": {},
   "outputs": [],
   "source": [
    "# Download the network of the first paper: pmid10436023\n",
    "\n",
    "BASE_KG_UUID = \"7a3195e9-4c50-11f0-a218-005056ae3c32\"   \n",
    "base_cx2 = ndex_client.get_network_as_cx2_stream(BASE_KG_UUID).json()\n",
    "with open(\"base_kg.cx2\", \"w\") as f: json.dump(base_cx2, f)"
   ]
  },
  {
   "cell_type": "code",
   "execution_count": 9,
   "id": "163c2adf",
   "metadata": {},
   "outputs": [],
   "source": [
    "from openai import OpenAI\n",
    "from typing import List\n",
    "\n",
    "# Initialize OpenAI client\n",
    "client = OpenAI(api_key=OPENAI_API_KEY)\n",
    "\n",
    "def query_llm(prompt: str) -> str:\n",
    "    \"\"\"\n",
    "    Query OpenAI's GPT model.\n",
    "    \"\"\"\n",
    "    try:\n",
    "        completion = client.chat.completions.create(\n",
    "            model=\"gpt-4o\",\n",
    "            messages=[\n",
    "                {\"role\": \"user\", \"content\": prompt}\n",
    "            ],\n",
    "            temperature=0.7,\n",
    "            max_tokens=1000\n",
    "        )\n",
    "        return completion.choices[0].message.content.strip()\n",
    "    except Exception as e:\n",
    "        print(f\"Error querying OpenAI: {str(e)}\")\n",
    "        return \"\"\n"
   ]
  },
  {
   "cell_type": "markdown",
   "id": "8d5768ab",
   "metadata": {},
   "source": [
    "Try the option of lettin the LLM use its knowledge and the option where we specifically tell it to use only the knowledge graph.\n",
    "\n",
    "- IMPORTANT NOTE: ONLY USE THE INFORMATION PROVIDED IN THE KNOWLEDGE GRAPH TO ANSWER THE QUESTION. DO NOT MAKE UP ANY INFORMATION OR USE YOUR OWN KNOWLEDGE.\n",
    "\n",
    "- IMPORTANT NOTE: YOU CAN MAKE USE OF YOUR KNOWLEDGE OF BIOLOGY AND THE PROVIDED KNOWLEDGE GRAPH TO ANSWER THE QUESTION.\n"
   ]
  },
  {
   "cell_type": "code",
   "execution_count": 34,
   "id": "b9360cea",
   "metadata": {},
   "outputs": [],
   "source": [
    "# Base prompt for LLM query\n",
    "PROMPT_TEMPLATE = \"\"\"\n",
    "You are playing the role of an expert cancer biologist.\n",
    "\n",
    "QUESTION: How does metabolism affect dna damage response?\n",
    "\n",
    "IMPORTANT NOTE: ONLY USE THE INFORMATION PROVIDED IN THE KNOWLEDGE GRAPH TO ANSWER THE QUESTION. DO NOT MAKE UP ANY INFORMATION OR USE YOUR OWN KNOWLEDGE.\n",
    "\n",
    "TASK:\n",
    "1. Review the following gene/protein set and the provided knowledge graph.\n",
    "2. Answer the question under QUESTION based on the provided knowledge graph.\n",
    "3. Provide your final answer as a paragraph summary\n",
    "\n",
    "Genes: {geneset}\n",
    "\n",
    "{knowledge_graph}\n",
    "\"\"\"\n"
   ]
  },
  {
   "cell_type": "code",
   "execution_count": 25,
   "id": "1fd16dde",
   "metadata": {},
   "outputs": [],
   "source": [
    "# Function that does graphrag query and returns the llm response\n",
    "\n",
    "from ndex2 import create_nice_cx_from_raw_cx\n",
    "from typing import Callable, Union, List\n",
    "\n",
    "def graph_rag_query(\n",
    "    geneset: Union[List[str], str],\n",
    "    ndex_id: str,\n",
    "    prompt_template: str,\n",
    "    ndex_client,\n",
    "    llm_query_fn: Callable[[str], str],\n",
    "    search_depth: int = 1\n",
    ") -> str:\n",
    "    \"\"\"\n",
    "    Perform a graph-RAG: pull a 1-hop neighborhood from NDEx, extract BEL context,\n",
    "    fill the prompt, and query the LLM.\n",
    "\n",
    "    Inputs:\n",
    "      geneset         – either a list of HGNC symbols or a whitespace-delimited string\n",
    "      ndex_id         – NDEx network UUID\n",
    "      prompt_template – string containing placeholders {geneset} and {knowledge_graph}\n",
    "      ndex_client     – an instantiated ndex2.client.Ndex2 object\n",
    "      llm_query_fn    – function that takes a single string prompt and returns the LLM’s response\n",
    "      search_depth    – how many hops out to pull (default=1)\n",
    "\n",
    "    Returns:\n",
    "      The raw response string from the LLM.\n",
    "    \"\"\"\n",
    "    # Normalize gene list to Python list\n",
    "    if isinstance(geneset, str):\n",
    "        gene_list = geneset.split()\n",
    "    else:\n",
    "        gene_list = geneset\n",
    "\n",
    "    # Build the semicolon-delimited search string for NDEx\n",
    "    search_string = \";\".join(gene_list)\n",
    "\n",
    "    # 1) Fetch the neighborhood as raw CX2 JSON\n",
    "    raw_cx2 = ndex_client.get_neighborhood(\n",
    "        ndex_id,\n",
    "        search_string=search_string,\n",
    "        search_depth=search_depth\n",
    "    )\n",
    "\n",
    "    # 2) Wrap in the “nice” CX helper\n",
    "    nice_net = create_nice_cx_from_raw_cx(raw_cx2)\n",
    "\n",
    "    # 3) Extract BEL expressions from every edge\n",
    "    bel_lines = []\n",
    "    for edge_id, edge_obj in nice_net.get_edges():\n",
    "        bel_stmt = nice_net.get_edge_attribute_value(edge_obj, \"bel_expression\")\n",
    "        bel_lines.append(bel_stmt)\n",
    "    knowledge_graph = \"\\n\".join(bel_lines)\n",
    "\n",
    "    # 4) Fill in the prompt template\n",
    "    formatted_prompt = prompt_template.format(\n",
    "        geneset=\" \".join(gene_list),\n",
    "        knowledge_graph=knowledge_graph\n",
    "    )\n",
    "\n",
    "    # 5) Call the LLM and return its response\n",
    "    return llm_query_fn(formatted_prompt)\n",
    "\n",
    "\n",
    "# ─── Example Usage ─────────────────────────────────────────────────────────────\n",
    "\n",
    "# response = graph_rag_query(\n",
    "#     geneset=[\"SIRT1\", \"PARP1\", \"TP53\"],\n",
    "#     ndex_id=BASE_KG_UUID,\n",
    "#     prompt_template=PROMPT_TEMPLATE,\n",
    "#     ndex_client=ndex,\n",
    "#     llm_query_fn=query_llm\n",
    "# )\n",
    "# print(response)"
   ]
  },
  {
   "cell_type": "code",
   "execution_count": 26,
   "id": "88130421",
   "metadata": {},
   "outputs": [
    {
     "name": "stdout",
     "output_type": "stream",
     "text": [
      "The relationship between metabolism and the DNA damage response involves a complex interplay of multiple proteins and pathways. In the provided gene/protein set, several key players are involved in this interaction. SIRT1 and NAMPT are important metabolic regulators, although their specific interactions are not detailed in the knowledge graph. PARP1 is directly decreased by TP53, indicating a suppressive effect on PARP1's role in DNA repair, specifically in poly(ADP-ribose) polymerase activity. TP53, a crucial tumor suppressor, enhances the expression of BRCA1, which is involved in homologous recombination repair, thereby promoting DNA repair pathways. TP53 also increases the expression of CDKN1A (p21), which helps in cell cycle arrest, allowing time for DNA repair. Furthermore, CDK2 activity, crucial for cell cycle progression, is inhibited by CDKN1B and indirectly by TP53, which can also have implications for DNA damage response by preventing the cell from progressing through the cycle with damaged DNA. The regulation of TP53 is tightly controlled by MDM2, which TP53 itself directly decreases, establishing a feedback loop to modulate the DNA damage response. The knowledge graph emphasizes TP53's central role in orchestrating the DNA damage response and its interactions with proteins that impact both metabolism and DNA repair mechanisms. Overall, metabolism influences the DNA damage response by modulating pathways and proteins like TP53, PARP1, and BRCA1, which coordinate the repair of DNA and maintain genomic stability.\n"
     ]
    }
   ],
   "source": [
    "graphrag_res = graph_rag_query(\n",
    "    geneset=[\"SIRT1\", \"NAMPT\", \"PARP1\", \"TP53\", \"BRCA1\", \"CDK2\"],\n",
    "    ndex_id=BASE_KG_UUID,\n",
    "    prompt_template=PROMPT_TEMPLATE,\n",
    "    ndex_client=ndex_client,\n",
    "    llm_query_fn=query_llm\n",
    ")\n",
    "\n",
    "print(graphrag_res)"
   ]
  },
  {
   "cell_type": "code",
   "execution_count": 22,
   "id": "86806615",
   "metadata": {},
   "outputs": [
    {
     "name": "stdout",
     "output_type": "stream",
     "text": [
      "The knowledge graph provides a complex interaction map highlighting how various proteins and genes are involved in the DNA damage response, particularly focusing on TP53, a key regulator in this process. Metabolism can influence the DNA damage response through the activity and regulation of several proteins such as SIRT1, NAMPT, and PARP1, although these specific metabolic proteins are not directly covered in the graph. However, TP53 is shown to have a pivotal role in regulating the activity of several key players in DNA repair and cell cycle regulation. TP53 directly increases the activity of BRCA1, a crucial protein in the repair of DNA double-strand breaks, and decreases the activity of PARP1, which is involved in base excision repair. Furthermore, TP53 enhances the expression of CDKN1A, which inhibits CDK2, thereby controlling the cell cycle progression in response to DNA damage. It also interacts with MDM2, which in turn influences TP53 activity through a feedback loop. Although the graph does not directly link metabolic processes to the DNA damage response, the interplay between these proteins suggests that metabolic changes affecting any of these interactions could consequently influence the DNA damage response.\n"
     ]
    }
   ],
   "source": [
    "print(graphrag_res)"
   ]
  },
  {
   "cell_type": "markdown",
   "id": "7525d2e5",
   "metadata": {},
   "source": [
    "### LLM response using only the knowledge graph\n",
    "\n",
    "\n",
    "The knowledge graph provides a complex interaction map highlighting how various proteins and genes are involved in the DNA damage response, particularly focusing on TP53, a key regulator in this process. Metabolism can influence the DNA damage response through the activity and regulation of several proteins such as SIRT1, NAMPT, and PARP1, although these specific metabolic proteins are not directly covered in the graph. However, TP53 is shown to have a pivotal role in regulating the activity of several key players in DNA repair and cell cycle regulation. TP53 directly increases the activity of BRCA1, a crucial protein in the repair of DNA double-strand breaks, and decreases the activity of PARP1, which is involved in base excision repair. Furthermore, TP53 enhances the expression of CDKN1A, which inhibits CDK2, thereby controlling the cell cycle progression in response to DNA damage. It also interacts with MDM2, which in turn influences TP53 activity through a feedback loop. Although the graph does not directly link metabolic processes to the DNA damage response, the interplay between these proteins suggests that metabolic changes affecting any of these interactions could consequently influence the DNA damage response."
   ]
  },
  {
   "cell_type": "markdown",
   "id": "67530a21",
   "metadata": {},
   "source": [
    "### LLM response using knowledge graph and LLM knowledge\n",
    "\n",
    "The relationship between metabolism and the DNA damage response involves a complex interplay of multiple proteins and pathways. In the provided gene/protein set, several key players are involved in this interaction. SIRT1 and NAMPT are important metabolic regulators, although their specific interactions are not detailed in the knowledge graph. PARP1 is directly decreased by TP53, indicating a suppressive effect on PARP1's role in DNA repair, specifically in poly(ADP-ribose) polymerase activity. TP53, a crucial tumor suppressor, enhances the expression of BRCA1, which is involved in homologous recombination repair, thereby promoting DNA repair pathways. TP53 also increases the expression of CDKN1A (p21), which helps in cell cycle arrest, allowing time for DNA repair. Furthermore, CDK2 activity, crucial for cell cycle progression, is inhibited by CDKN1B and indirectly by TP53, which can also have implications for DNA damage response by preventing the cell from progressing through the cycle with damaged DNA. The regulation of TP53 is tightly controlled by MDM2, which TP53 itself directly decreases, establishing a feedback loop to modulate the DNA damage response. The knowledge graph emphasizes TP53's central role in orchestrating the DNA damage response and its interactions with proteins that impact both metabolism and DNA repair mechanisms. Overall, metabolism influences the DNA damage response by modulating pathways and proteins like TP53, PARP1, and BRCA1, which coordinate the repair of DNA and maintain genomic stability."
   ]
  },
  {
   "cell_type": "markdown",
   "id": "5e971c07",
   "metadata": {},
   "source": [
    "## Demonstate GraphRag on Merged Network of two papers"
   ]
  },
  {
   "cell_type": "code",
   "execution_count": 27,
   "id": "67df9554",
   "metadata": {},
   "outputs": [],
   "source": [
    "# Download network of the second paper: pmid24360018\n",
    "NEW_KG_UUID = \"1a811f64-4b97-11f0-a218-005056ae3c32\"   \n",
    "new_cx2 = ndex_client.get_network_as_cx2_stream(NEW_KG_UUID).json()\n",
    "with open(\"new_kg.cx2\", \"w\") as f: json.dump(new_cx2, f)"
   ]
  },
  {
   "cell_type": "code",
   "execution_count": null,
   "id": "c34799c2",
   "metadata": {},
   "outputs": [
    {
     "name": "stderr",
     "output_type": "stream",
     "text": [
      "/opt/homebrew/anaconda3/lib/python3.11/site-packages/pydub/utils.py:170: RuntimeWarning: Couldn't find ffmpeg or avconv - defaulting to ffmpeg, but may not work\n",
      "  warn(\"Couldn't find ffmpeg or avconv - defaulting to ffmpeg, but may not work\", RuntimeWarning)\n",
      "INFO: [2025-06-23 16:36:25] textToKnowledgeGraph.convert_to_cx2 - Setting visual style properties\n"
     ]
    },
    {
     "name": "stdout",
     "output_type": "stream",
     "text": [
      "Merged network UUID: https://www.ndexbio.org/v3/networks/d3c02378-5047-11f0-a218-005056ae3c32\n"
     ]
    }
   ],
   "source": [
    "# Merge base and new networks\n",
    "from ndex2.cx2 import RawCX2NetworkFactory\n",
    "from textToKnowledgeGraph.convert_to_cx2 import add_style_to_network\n",
    "\n",
    "# Creating an instance of RawCX2NetworkFactory\n",
    "cx2_factory = RawCX2NetworkFactory()\n",
    "base_net = cx2_factory.get_cx2network(base_cx2)\n",
    "new_net  = cx2_factory.get_cx2network(new_cx2)\n",
    "\n",
    "def merge_cx2(cx2_graphs):\n",
    "    merged_graph = CX2Network()\n",
    "    node_map = {}  # Maps (node_name, node_type) to node ID in merged graph\n",
    "    \n",
    "    # First, merge all nodes\n",
    "    for graph in cx2_graphs:\n",
    "        for node_id, node in graph.get_nodes().items():  # Changed to .items() based on docs\n",
    "            # Create a tuple of node attributes that define uniqueness\n",
    "            node_data = node[\"v\"]\n",
    "            node_name = node_data.get('name', '')\n",
    "            \n",
    "            if node_name not in node_map:\n",
    "                # Create new node using add_node() as documented\n",
    "                new_node_id = merged_graph.add_node(attributes=node_data)\n",
    "                node_map[node_name] = new_node_id\n",
    "    \n",
    "    # Then, merge all edges\n",
    "    for graph in cx2_graphs:\n",
    "        for edge_id, edge_data in graph.get_edges().items():  \n",
    "            # Get source and target directly from edge data\n",
    "            source_id = edge_data.get('s')  \n",
    "            target_id = edge_data.get('t') \n",
    "            \n",
    "            # Get source and target nodes\n",
    "            source_node = graph.get_node(source_id)\n",
    "            source_name = source_node[\"v\"][\"name\"]\n",
    "            target_node = graph.get_node(target_id)\n",
    "            target_name = target_node[\"v\"][\"name\"]\n",
    "            \n",
    "            merged_source = node_map[source_name]\n",
    "            merged_target = node_map[target_name]\n",
    "            \n",
    "            # Create edge using add_edge() as documented\n",
    "            merged_graph.add_edge(source=merged_source, \n",
    "                                target=merged_target, \n",
    "                                attributes=edge_data[\"v\"])\n",
    "    \n",
    "    return merged_graph\n",
    "\n",
    "\n",
    "cx2_graphs = [base_net, new_net]\n",
    "merged_network = merge_cx2(cx2_graphs)\n",
    "\n",
    "# Apply style to the merged network\n",
    "add_style_to_network(\n",
    "    cx2_network=merged_network,\n",
    "    style_path=\"/Users/favourjames/Downloads/llm-text-to-knowledge-graph/textToKnowledgeGraph/cx_style.json\"   \n",
    ")\n",
    "\n",
    "merged_network.set_name(\"Merged Network of Base and New KGs\")\n",
    "\n",
    "# Upload the merged network to NDEx\n",
    "merged_uuid = ndex_client.save_new_cx2_network(merged_network.to_cx2())\n",
    "\n",
    "print(\"Merged network UUID:\", merged_uuid)"
   ]
  },
  {
   "cell_type": "code",
   "execution_count": 35,
   "id": "f78a24d9",
   "metadata": {},
   "outputs": [
    {
     "name": "stderr",
     "output_type": "stream",
     "text": [
      "INFO: [2025-06-23 16:46:25] httpx - HTTP Request: POST https://api.openai.com/v1/chat/completions \"HTTP/1.1 200 OK\"\n"
     ]
    },
    {
     "name": "stdout",
     "output_type": "stream",
     "text": [
      "Metabolism significantly influences the DNA damage response through a complex interplay involving the genes and proteins SIRT1, NAMPT, PARP1, and TP53. SIRT1, a metabolic regulator, directly decreases the activity of PARP1, a key player in DNA repair processes, indicating a regulatory control over DNA repair mechanisms. PARP1, in turn, enhances processes like DNA repair and cell death, as evidenced by its role in increasing biological processes linked to cell cycle and DNA damage responses (GO:0006974 and GO:0008219). TP53, a critical tumor suppressor, directly decreases the activity of both SIRT1 and PARP1, and simultaneously increases the activity of BRCA1, another vital DNA repair protein. This suggests that TP53 modulates DNA repair pathways by balancing the activities of these proteins. Moreover, the activity of PARP1 is positively regulated by NAMPT and other metabolic components, linking cellular metabolic status to DNA damage response pathways. Collectively, these interactions highlight a sophisticated network where metabolism, through key regulators like SIRT1 and NAMPT, affects the DNA damage response, primarily by modulating the activities of repair proteins such as PARP1 and TP53.\n"
     ]
    }
   ],
   "source": [
    "# Graphrag query with merged graph context\n",
    "Merged_UUID = \"d3c02378-5047-11f0-a218-005056ae3c32\"\n",
    "\n",
    "merged_graphrag_res = graph_rag_query(\n",
    "    geneset=[\"SIRT1\", \"NAMPT\", \"PARP1\", \"TP53\", \"BRCA1\", \"CDK2\"],\n",
    "    ndex_id=Merged_UUID,\n",
    "    prompt_template=PROMPT_TEMPLATE,\n",
    "    ndex_client=ndex_client,\n",
    "    llm_query_fn=query_llm\n",
    ")\n",
    "\n",
    "print(merged_graphrag_res)"
   ]
  },
  {
   "cell_type": "markdown",
   "id": "baa7d512",
   "metadata": {},
   "source": [
    "### LLM response using only the knowledge graph for merged network\n",
    "\n",
    "Metabolism significantly influences the DNA damage response through a complex interplay involving the genes and proteins SIRT1, NAMPT, PARP1, and TP53. SIRT1, a metabolic regulator, directly decreases the activity of PARP1, a key player in DNA repair processes, indicating a regulatory control over DNA repair mechanisms. PARP1, in turn, enhances processes like DNA repair and cell death, as evidenced by its role in increasing biological processes linked to cell cycle and DNA damage responses (GO:0006974 and GO:0008219). TP53, a critical tumor suppressor, directly decreases the activity of both SIRT1 and PARP1, and simultaneously increases the activity of BRCA1, another vital DNA repair protein. This suggests that TP53 modulates DNA repair pathways by balancing the activities of these proteins. Moreover, the activity of PARP1 is positively regulated by NAMPT and other metabolic components, linking cellular metabolic status to DNA damage response pathways. Collectively, these interactions highlight a sophisticated network where metabolism, through key regulators like SIRT1 and NAMPT, affects the DNA damage response, primarily by modulating the activities of repair proteins such as PARP1 and TP53."
   ]
  },
  {
   "cell_type": "markdown",
   "id": "b08ae497",
   "metadata": {},
   "source": [
    "### LLM response using knowledge graph and LLM knowledge for merged network\n",
    "\n",
    "The metabolism of cells can significantly influence the DNA damage response (DDR), a critical cellular mechanism for maintaining genomic integrity. The genes and proteins involved, such as SIRT1, NAMPT, PARP1, TP53, BRCA1, and CDK2, play distinct roles in this process. SIRT1 and PARP1 are central to the regulation of metabolism and the DDR. SIRT1, a NAD+-dependent deacetylase, is involved in cellular stress responses and regulates PARP1 activity. It acts as a negative regulator of PARP1, as evidenced by its direct decrease in PARP1 activity. Conversely, PARP1, which also relies on NAD+ for its activity, facilitates DNA repair by recognizing DNA strand breaks and recruiting DNA repair proteins, thus playing a direct role in the DDR. TP53, a pivotal tumor suppressor gene, regulates the expression of several genes involved in the DDR, including CDKN1A and BRCA1, and can downregulate PARP1 activity. This regulation is crucial, as overactivation of PARP1 can lead to NAD+ depletion, influencing cellular energy metabolism. Furthermore, TP53 activity is modulated by various factors such as ATM and PRKDC, which enhance its role in the DDR. CDK2, a cyclin-dependent kinase, interacts with the cell cycle and can be negatively regulated by TP53 through indirect pathways. Overall, the interplay between these metabolic regulators and the DDR components highlights the intricate connection between cellular metabolism and the maintenance of genomic stability, where metabolic enzymes and pathways can directly impact the efficacy and regulation of DNA repair mechanisms."
   ]
  },
  {
   "cell_type": "code",
   "execution_count": null,
   "id": "66fec7cd",
   "metadata": {},
   "outputs": [],
   "source": []
  }
 ],
 "metadata": {
  "kernelspec": {
   "display_name": "base",
   "language": "python",
   "name": "python3"
  },
  "language_info": {
   "codemirror_mode": {
    "name": "ipython",
    "version": 3
   },
   "file_extension": ".py",
   "mimetype": "text/x-python",
   "name": "python",
   "nbconvert_exporter": "python",
   "pygments_lexer": "ipython3",
   "version": "3.11.8"
  }
 },
 "nbformat": 4,
 "nbformat_minor": 5
}
