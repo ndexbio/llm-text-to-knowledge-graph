{
 "cells": [
  {
   "cell_type": "markdown",
   "metadata": {},
   "source": [
    "# BEL Graph RAG Example\n",
    "\n",
    "This notebook demonstrates how to use Graph RAG (Retrieval Augmented Generation) with BEL graphs to generate hypotheses about experimental observations."
   ]
  },
  {
   "cell_type": "code",
   "execution_count": 2,
   "metadata": {},
   "outputs": [],
   "source": [
    "import os\n",
    "import json\n",
    "from pathlib import Path\n",
    "import sys\n",
    "from ndex2 import Ndex2\n",
    "import ndex2\n",
    "from ndex2.cx2 import CX2Network\n",
    "\n",
    "# Add parent directory to path to import textToKnowledgeGraph\n",
    "sys.path.append('..')\n",
    "\n",
    "import sys\n",
    "# print(sys.executable)\n",
    "\n",
    "# for key, value in os.environ.items():\n",
    "#     print(f\"{key}: {value}\")\n",
    "\n",
    "# Get NDEx account and password from environment variables\n",
    "ndex_account = os.environ.get('NDEX_ACCOUNT')\n",
    "ndex_password = os.environ.get('NDEX_PASSWORD')\n",
    "\n",
    "# Verify credentials are available\n",
    "if not ndex_account or not ndex_password:\n",
    "    raise ValueError(\"NDEx credentials not found in environment variables. \"\n",
    "                    \"Please set NDEX_ACCOUNT and NDEX_PASSWORD.\")\n",
    "\n",
    "ndex_client = Ndex2(username=ndex_account, password=ndex_password)\n"
   ]
  },
  {
   "cell_type": "markdown",
   "metadata": {},
   "source": [
    "## Papers to build our knowledge graph"
   ]
  },
  {
   "cell_type": "code",
   "execution_count": null,
   "metadata": {},
   "outputs": [],
   "source": [
    "relevant_papers = {\n",
    "    \"paper1\": {\n",
    "        \"pmcid\": \"PMC5572400\"\n",
    "    },\n",
    "}"
   ]
  },
  {
   "cell_type": "markdown",
   "metadata": {},
   "source": [
    "## Process the relevant papers to CX2 files"
   ]
  },
  {
   "cell_type": "code",
   "execution_count": 4,
   "metadata": {},
   "outputs": [
    {
     "ename": "ModuleNotFoundError",
     "evalue": "No module named 'pub'",
     "output_type": "error",
     "traceback": [
      "\u001b[0;31m---------------------------------------------------------------------------\u001b[0m",
      "\u001b[0;31mModuleNotFoundError\u001b[0m                       Traceback (most recent call last)",
      "Cell \u001b[0;32mIn[4], line 2\u001b[0m\n\u001b[1;32m      1\u001b[0m \u001b[38;5;66;03m# Process each paper to generate CX2 knowledge graphs and save to files\u001b[39;00m\n\u001b[0;32m----> 2\u001b[0m \u001b[38;5;28;01mfrom\u001b[39;00m\u001b[38;5;250m \u001b[39m\u001b[38;5;21;01mpython_scripts\u001b[39;00m\u001b[38;5;21;01m.\u001b[39;00m\u001b[38;5;21;01mbel_processing\u001b[39;00m\u001b[38;5;250m \u001b[39m\u001b[38;5;28;01mimport\u001b[39;00m process_paper_to_bel_cx2\n\u001b[1;32m      3\u001b[0m paper_ndex_ids \u001b[38;5;241m=\u001b[39m []\n\u001b[1;32m      4\u001b[0m \u001b[38;5;28;01mfor\u001b[39;00m paper_id, paper \u001b[38;5;129;01min\u001b[39;00m relevant_papers\u001b[38;5;241m.\u001b[39mitems():\n",
      "File \u001b[0;32m~/Dropbox/GitHub/llm-text-to-knowledge-graph/examples/../python_scripts/bel_processing.py:7\u001b[0m\n\u001b[1;32m      5\u001b[0m \u001b[38;5;28;01mfrom\u001b[39;00m\u001b[38;5;250m \u001b[39m\u001b[38;5;21;01mndex2\u001b[39;00m\u001b[38;5;21;01m.\u001b[39;00m\u001b[38;5;21;01mclient\u001b[39;00m\u001b[38;5;250m \u001b[39m\u001b[38;5;28;01mimport\u001b[39;00m Ndex2\n\u001b[1;32m      6\u001b[0m \u001b[38;5;28;01mfrom\u001b[39;00m\u001b[38;5;250m \u001b[39m\u001b[38;5;21;01mpython_scripts\u001b[39;00m\u001b[38;5;21;01m.\u001b[39;00m\u001b[38;5;21;01mconvert_to_cx2\u001b[39;00m\u001b[38;5;250m \u001b[39m\u001b[38;5;28;01mimport\u001b[39;00m convert_to_cx2\n\u001b[0;32m----> 7\u001b[0m \u001b[38;5;28;01mfrom\u001b[39;00m\u001b[38;5;250m \u001b[39m\u001b[38;5;21;01mpub\u001b[39;00m\u001b[38;5;250m \u001b[39m\u001b[38;5;28;01mimport\u001b[39;00m get_pubtator_paragraphs, download_pubtator_xml\n\u001b[1;32m      8\u001b[0m \u001b[38;5;28;01mfrom\u001b[39;00m\u001b[38;5;250m \u001b[39m\u001b[38;5;21;01msentence_level_extraction\u001b[39;00m\u001b[38;5;250m \u001b[39m\u001b[38;5;28;01mimport\u001b[39;00m llm_bel_processing\n\u001b[1;32m      9\u001b[0m \u001b[38;5;28;01mfrom\u001b[39;00m\u001b[38;5;250m \u001b[39m\u001b[38;5;21;01mindra_download_extract\u001b[39;00m\u001b[38;5;250m \u001b[39m\u001b[38;5;28;01mimport\u001b[39;00m save_to_json, setup_output_directory\n",
      "\u001b[0;31mModuleNotFoundError\u001b[0m: No module named 'pub'"
     ]
    }
   ],
   "source": [
    "# Process each paper to generate CX2 knowledge graphs and save to files\n",
    "from python_scripts.bel_processing import process_paper_to_bel_cx2\n",
    "paper_ndex_ids = []\n",
    "for paper_id, paper in relevant_papers.items():\n",
    "    cx2_network = process_paper_to_bel_cx2(paper_id)\n",
    "\n"
   ]
  },
  {
   "cell_type": "markdown",
   "metadata": {},
   "source": [
    "## Merge Graphs"
   ]
  },
  {
   "cell_type": "code",
   "execution_count": null,
   "metadata": {},
   "outputs": [],
   "source": [
    "def merge_cx2(cx2_graphs):\n",
    "    merged_graph = CX2Network()\n",
    "    node_map = {}  # Maps (node_name, node_type) to node ID in merged graph\n",
    "    \n",
    "    # First, merge all nodes\n",
    "    for graph in cx2_graphs:\n",
    "        for node_id, node_data in graph.get_nodes().items():  # Changed to .items() based on docs\n",
    "            # Create a tuple of node attributes that define uniqueness\n",
    "            node_name = node_data.get('name', '')\n",
    "            node_type = node_data.get('type', '')  # Changed 'r' to 'type' as more standard\n",
    "            node_key = (node_name, node_type)\n",
    "            \n",
    "            if node_key not in node_map:\n",
    "                # Create new node using add_node() as documented\n",
    "                new_node_id = merged_graph.add_node(attributes=node_data)\n",
    "                node_map[node_key] = new_node_id\n",
    "    \n",
    "    # Then, merge all edges\n",
    "    for graph in cx2_graphs:\n",
    "        for edge_id, edge_data in graph.get_edges().items():  \n",
    "            # Get source and target directly from edge data\n",
    "            source_id = edge_data.get('source')  # Changed 's' to 'source'\n",
    "            target_id = edge_data.get('target')  # Changed 't' to 'target'\n",
    "            \n",
    "            # Get source and target nodes\n",
    "            source_node = graph.get_node(source_id)\n",
    "            target_node = graph.get_node(target_id)\n",
    "            \n",
    "            # Get corresponding nodes in merged graph\n",
    "            source_key = (source_node.get('name', ''), source_node.get('type', ''))\n",
    "            target_key = (target_node.get('name', ''), target_node.get('type', ''))\n",
    "            \n",
    "            merged_source = node_map[source_key]\n",
    "            merged_target = node_map[target_key]\n",
    "            \n",
    "            # Create edge using add_edge() as documented\n",
    "            merged_graph.add_edge(source=merged_source, \n",
    "                                target=merged_target, \n",
    "                                attributes=edge_data)\n",
    "    \n",
    "    return merged_graph"
   ]
  },
  {
   "cell_type": "markdown",
   "metadata": {},
   "source": [
    "## Example Experiment\n",
    "\n",
    "Let's use an example experiment studying the effects of oxidative stress on cell death pathways."
   ]
  },
  {
   "cell_type": "code",
   "execution_count": 18,
   "metadata": {},
   "outputs": [],
   "source": [
    "example_experiment = {\n",
    "    \"experiment\": \"\"\"\n",
    "    Human endothelial cells were treated with hydrogen peroxide (H2O2) at varying concentrations \n",
    "    (0, 100, 200, 500 μM) for 24 hours. Cell viability, apoptosis markers, and oxidative stress \n",
    "    indicators were measured.\n",
    "    \"\"\",\n",
    "    \n",
    "    \"measurements\": \"\"\"\n",
    "    1. Cell viability decreased dose-dependently with H2O2 treatment\n",
    "    2. Caspase-3 activity increased 3-fold at 200 μM H2O2\n",
    "    3. Intracellular ROS levels increased 5-fold at 200 μM H2O2\n",
    "    4. Bcl-2 protein levels decreased by 50% at 200 μM H2O2\n",
    "    5. Cytochrome c was detected in cytoplasmic fractions at 200 μM H2O2\n",
    "    \"\"\"\n",
    "}\n",
    "\n",
    "example_experiment_2 = {\n",
    "    \"experiment\": \"\"\"\n",
    "    Recent studies have revealed intriguing connections between cellular metabolism and circadian rhythms, \n",
    "    though the molecular mechanisms linking these processes remain poorly understood. Our network analysis \n",
    "    suggests that SIRT1, a NAD+-dependent deacetylase known to respond to cellular energy status, may serve \n",
    "    as a key mediator through its interactions with core clock proteins. Specifically, SIRT1's direct \n",
    "    deacetylation of both BMAL1 at K537 and PER2 suggests a mechanism whereby metabolic state could \n",
    "    directly influence circadian timing. We hypothesize that SIRT1 functions as a metabolic sensor that \n",
    "    fine-tunes circadian rhythms by modulating the acetylation status of clock proteins in response to \n",
    "    cellular NAD+ levels. This would create a feedback loop where daily oscillations in metabolism influence \n",
    "    clock protein activity through SIRT1, which in turn affects metabolic gene expression through clock-controlled \n",
    "    transcription. Furthermore, since SIRT1 decreases TIP60 activity, and TIP60 is a known acetyltransferase, \n",
    "    we predict that SIRT1 suppression of TIP60 would lead to enhanced deacetylation of clock proteins through an \n",
    "    indirect mechanism independent of SIRT1's direct deacetylase activity. This dual mechanism of direct and \n",
    "    indirect deacetylation control could explain the observed disruption of both circadian rhythms and metabolism \n",
    "    in aging and metabolic diseases. Testing this hypothesis will require careful analysis of how manipulation of \n",
    "    cellular NAD+ levels affects SIRT1-mediated deacetylation of clock proteins and subsequent changes in \n",
    "    circadian period and amplitude. \"\"\"\n",
    "\n",
    "}"
   ]
  },
  {
   "cell_type": "markdown",
   "metadata": {},
   "source": [
    "## Use an LLM to extract the entities from the example experiment, then query the KG in NDEx"
   ]
  },
  {
   "cell_type": "code",
   "execution_count": 29,
   "metadata": {},
   "outputs": [
    {
     "name": "stdout",
     "output_type": "stream",
     "text": [
      "CASP3 BCL2 CYC\n"
     ]
    },
    {
     "data": {
      "text/plain": [
       "'a(CHEBI:ATP) increases act(p(HGNC:CASP3)\\n'"
      ]
     },
     "execution_count": 29,
     "metadata": {},
     "output_type": "execute_result"
    }
   ],
   "source": [
    "import os\n",
    "from openai import OpenAI\n",
    "from typing import List\n",
    "\n",
    "# Get API key from environment\n",
    "OPENAI_API_KEY = os.environ.get(\"OPENAI_API_KEY\")\n",
    "if not OPENAI_API_KEY:\n",
    "    raise ValueError(\"OPENAI_API_KEY not found in environment variables\")\n",
    "\n",
    "# Initialize OpenAI client\n",
    "client = OpenAI(api_key=OPENAI_API_KEY)\n",
    "\n",
    "# Template for extracting gene entities\n",
    "entity_prompt_template = \"\"\"\n",
    "Interpret this text to extract all genes/proteins mentioned and output them as a whitespace-separated list of human gene symbols.\n",
    "<example>\n",
    "TP53 AKT1 MTOR\n",
    "</example>\n",
    "Only output that list, nothing else.\n",
    "<text>\n",
    "{text}\n",
    "</text>\n",
    "\"\"\"\n",
    "\n",
    "def query_llm(prompt: str) -> str:\n",
    "    \"\"\"\n",
    "    Query OpenAI's GPT model.\n",
    "    \"\"\"\n",
    "    try:\n",
    "        completion = client.chat.completions.create(\n",
    "            model=\"gpt-4\",\n",
    "            messages=[\n",
    "                {\"role\": \"user\", \"content\": prompt}\n",
    "            ],\n",
    "            temperature=0.7,\n",
    "            max_tokens=1000\n",
    "        )\n",
    "        return completion.choices[0].message.content.strip()\n",
    "    except Exception as e:\n",
    "        print(f\"Error querying OpenAI: {str(e)}\")\n",
    "        return \"\"\n",
    "\n",
    "def get_entities(text: str) -> List[str]:\n",
    "    \"\"\"\n",
    "    Extract gene entities from text using LLM.\n",
    "    \"\"\"\n",
    "    prompt = entity_prompt_template.format(text=text)\n",
    "    response = query_llm(prompt)\n",
    "    if response:\n",
    "        return response\n",
    "    return \"\"\n",
    "\n",
    "kg_query_string = get_entities(example_experiment)\n",
    "\n",
    "print(kg_query_string)\n",
    "\n",
    "# kg_query_string = \"SIRT1 TP53\"\n",
    "\n",
    "kg_network_id = \"7ce89103-a372-11ef-99aa-005056ae3c32\"\n",
    "\n",
    "nice_kg_query_network = ndex2.create_nice_cx_from_raw_cx(ndex_client.get_neighborhood(kg_network_id, kg_query_string, search_depth=1))\n",
    "\n",
    "# convert the network to a string containing BEL statements and supporting evidence\n",
    "knowledge_graph = \"\"\n",
    "\n",
    "for edge_id, edge_obj in nice_kg_query_network.get_edges():\n",
    "    knowledge_graph += nice_kg_query_network.get_edge_attribute_value(edge_obj, \"bel_expression\")\n",
    "    knowledge_graph += \"\\n\"\n",
    "\n",
    "knowledge_graph"
   ]
  },
  {
   "cell_type": "markdown",
   "metadata": {},
   "source": [
    "## Hypothesis Generation Prompt"
   ]
  },
  {
   "cell_type": "code",
   "execution_count": 30,
   "metadata": {},
   "outputs": [],
   "source": [
    "PROMPT_TEMPLATE = \"\"\"\n",
    "You are an expert biologist tasked with analyzing experimental data and proposing mechanistic hypotheses.\n",
    "\n",
    "EXPERIMENT DESCRIPTION:\n",
    "{experiment}\n",
    "\n",
    "MEASUREMENTS:\n",
    "{measurements}\n",
    "\n",
    "BEL FORMAT GUIDELINES:\n",
    "BEL is a language for representing biological knowledge in a computable form. Key aspects:\n",
    "- Entities are represented with functions like p() for proteins, a() for abundances, bp() for biological processes\n",
    "- Relationships between entities use operators like increases, decreases, directlyIncreases, association\n",
    "- Entities must use standard namespaces (HGNC for human genes, CHEBI for chemicals, etc.)\n",
    "\n",
    "EXISTING KNOWLEDGE (Optional):\n",
    "{knowledge_graph}\n",
    "\n",
    "TASK:\n",
    "Propose a hypothesis explaining the experimental observations as a BEL graph. Your hypothesis should:\n",
    "1. Be consistent with the experimental data\n",
    "2. Use proper BEL syntax and namespaces\n",
    "3. Focus on mechanistic relationships\n",
    "4. Incorporate existing knowledge when provided\n",
    "\n",
    "Output your hypothesis as a list of BEL statements that form a connected graph.\n",
    "\"\"\""
   ]
  },
  {
   "cell_type": "markdown",
   "metadata": {},
   "source": [
    "## Hypothesis Generation Function"
   ]
  },
  {
   "cell_type": "code",
   "execution_count": 32,
   "metadata": {},
   "outputs": [],
   "source": [
    "def generate_hypothesis(experiment_desc, measurements, knowledge_graph=None):\n",
    "    \"\"\"Generate a hypothesis as a BEL graph based on experimental observations.\n",
    "    \n",
    "    Args:\n",
    "        experiment_desc (str): Description of the experimental setup\n",
    "        measurements (str): Observed experimental measurements\n",
    "        knowledge_graph (str, optional): Existing knowledge in BEL format\n",
    "        \n",
    "    Returns:\n",
    "        str: Path to the saved CX2 file containing the hypothesis graph\n",
    "    \"\"\"\n",
    "    # Format the prompt\n",
    "    prompt = PROMPT_TEMPLATE.format(\n",
    "        experiment=experiment_desc,\n",
    "        measurements=measurements,\n",
    "        knowledge_graph=knowledge_graph if knowledge_graph else \"No prior knowledge provided\"\n",
    "    )\n",
    "\n",
    "    return query_llm(prompt)\n",
    "    \n"
   ]
  },
  {
   "cell_type": "markdown",
   "metadata": {},
   "source": [
    "## Generate a hypothesis"
   ]
  },
  {
   "cell_type": "code",
   "execution_count": 34,
   "metadata": {},
   "outputs": [
    {
     "name": "stdout",
     "output_type": "stream",
     "text": [
      "1. a(CHEBI:\"hydrogen peroxide\") increases a(CHEBI:\"reactive oxygen species\")\n",
      "2. a(CHEBI:\"hydrogen peroxide\") decreases p(HGNC:BCL2)\n",
      "3. a(CHEBI:\"reactive oxygen species\") increases act(p(HGNC:CASP3))\n",
      "4. p(HGNC:BCL2) decreases act(p(HGNC:CASP3))\n",
      "5. act(p(HGNC:CASP3)) increases a(CHEBI:\"cytochrome c\")\n",
      "6. a(CHEBI:\"cytochrome c\") decreases bp(GO:\"cell viability\")\n",
      "7. act(p(HGNC:CASP3)) increases bp(MESH:\"Apoptosis\")\n",
      "8. a(CHEBI:\"hydrogen peroxide\") directlyDecreases bp(GO:\"cell viability\")\n"
     ]
    }
   ],
   "source": [
    "hypothesis = generate_hypothesis(example_experiment['experiment'], example_experiment['measurements'], knowledge_graph)\n",
    "print(hypothesis)"
   ]
  },
  {
   "cell_type": "code",
   "execution_count": null,
   "metadata": {},
   "outputs": [],
   "source": []
  }
 ],
 "metadata": {
  "kernelspec": {
   "display_name": ".venv",
   "language": "python",
   "name": "python3"
  },
  "language_info": {
   "codemirror_mode": {
    "name": "ipython",
    "version": 3
   },
   "file_extension": ".py",
   "mimetype": "text/x-python",
   "name": "python",
   "nbconvert_exporter": "python",
   "pygments_lexer": "ipython3",
   "version": "3.11.7"
  }
 },
 "nbformat": 4,
 "nbformat_minor": 4
}
